{
 "cells": [
  {
   "cell_type": "code",
   "execution_count": 1,
   "id": "88b33e07",
   "metadata": {},
   "outputs": [],
   "source": [
    "myList = [\"one\", \"two\", 3, 4.0, \"five\"]"
   ]
  },
  {
   "cell_type": "code",
   "execution_count": 2,
   "id": "6b6708de",
   "metadata": {},
   "outputs": [
    {
     "data": {
      "text/plain": [
       "['one', 'two', 3, 4.0, 'five']"
      ]
     },
     "execution_count": 2,
     "metadata": {},
     "output_type": "execute_result"
    }
   ],
   "source": [
    "myList"
   ]
  },
  {
   "cell_type": "code",
   "execution_count": 3,
   "id": "2e705844",
   "metadata": {},
   "outputs": [],
   "source": [
    "myList.append(\"six\")"
   ]
  },
  {
   "cell_type": "code",
   "execution_count": 4,
   "id": "19b6b7c6",
   "metadata": {},
   "outputs": [
    {
     "data": {
      "text/plain": [
       "['one', 'two', 3, 4.0, 'five', 'six']"
      ]
     },
     "execution_count": 4,
     "metadata": {},
     "output_type": "execute_result"
    }
   ],
   "source": [
    "myList"
   ]
  },
  {
   "cell_type": "code",
   "execution_count": 5,
   "id": "dd14a442",
   "metadata": {},
   "outputs": [
    {
     "data": {
      "text/plain": [
       "4.0"
      ]
     },
     "execution_count": 5,
     "metadata": {},
     "output_type": "execute_result"
    }
   ],
   "source": [
    "myList.pop(3)"
   ]
  },
  {
   "cell_type": "code",
   "execution_count": 6,
   "id": "5e90dedc",
   "metadata": {},
   "outputs": [],
   "source": [
    "myList2 = myList.pop(2)"
   ]
  },
  {
   "cell_type": "code",
   "execution_count": 7,
   "id": "a22f2f6f",
   "metadata": {},
   "outputs": [
    {
     "data": {
      "text/plain": [
       "3"
      ]
     },
     "execution_count": 7,
     "metadata": {},
     "output_type": "execute_result"
    }
   ],
   "source": [
    "myList2"
   ]
  },
  {
   "cell_type": "code",
   "execution_count": 8,
   "id": "498a1082",
   "metadata": {},
   "outputs": [
    {
     "ename": "TypeError",
     "evalue": "can only concatenate list (not \"int\") to list",
     "output_type": "error",
     "traceback": [
      "\u001b[0;31m---------------------------------------------------------------------------\u001b[0m",
      "\u001b[0;31mTypeError\u001b[0m                                 Traceback (most recent call last)",
      "\u001b[0;32m/var/folders/cg/wtnqf9vx0gxg1n7vtpbf3_400000gn/T/ipykernel_10852/662929903.py\u001b[0m in \u001b[0;36m<module>\u001b[0;34m\u001b[0m\n\u001b[0;32m----> 1\u001b[0;31m \u001b[0mmyList3\u001b[0m \u001b[0;34m=\u001b[0m \u001b[0mmyList\u001b[0m \u001b[0;34m+\u001b[0m \u001b[0mmyList2\u001b[0m\u001b[0;34m\u001b[0m\u001b[0;34m\u001b[0m\u001b[0m\n\u001b[0m",
      "\u001b[0;31mTypeError\u001b[0m: can only concatenate list (not \"int\") to list"
     ]
    }
   ],
   "source": [
    "myList3 = myList + myList2"
   ]
  },
  {
   "cell_type": "code",
   "execution_count": 9,
   "id": "0308f415",
   "metadata": {},
   "outputs": [],
   "source": [
    "myList2 = [3, 4]"
   ]
  },
  {
   "cell_type": "code",
   "execution_count": 10,
   "id": "780ddf73",
   "metadata": {},
   "outputs": [],
   "source": [
    "myList3 = myList + myList2"
   ]
  },
  {
   "cell_type": "code",
   "execution_count": 11,
   "id": "935a9080",
   "metadata": {},
   "outputs": [
    {
     "data": {
      "text/plain": [
       "['one', 'two', 'five', 'six', 3, 4]"
      ]
     },
     "execution_count": 11,
     "metadata": {},
     "output_type": "execute_result"
    }
   ],
   "source": [
    "myList3"
   ]
  },
  {
   "cell_type": "code",
   "execution_count": 12,
   "id": "def8803a",
   "metadata": {},
   "outputs": [],
   "source": [
    "char_list = [ \"f\", \"r\", \"a\", \"e\", \"b\"]\n",
    "num_list = [\"3\", \"15\", \"2\", \"0\", \"13\"]"
   ]
  },
  {
   "cell_type": "code",
   "execution_count": 13,
   "id": "b7699039",
   "metadata": {},
   "outputs": [
    {
     "data": {
      "text/plain": [
       "['f', 'r', 'a', 'e', 'b']"
      ]
     },
     "execution_count": 13,
     "metadata": {},
     "output_type": "execute_result"
    }
   ],
   "source": [
    "char_list"
   ]
  },
  {
   "cell_type": "code",
   "execution_count": 14,
   "id": "11f86ba5",
   "metadata": {},
   "outputs": [
    {
     "data": {
      "text/plain": [
       "['3', '15', '2', '0', '13']"
      ]
     },
     "execution_count": 14,
     "metadata": {},
     "output_type": "execute_result"
    }
   ],
   "source": [
    "num_list"
   ]
  },
  {
   "cell_type": "code",
   "execution_count": 15,
   "id": "00b5a623",
   "metadata": {},
   "outputs": [
    {
     "data": {
      "text/plain": [
       "['a', 'b', 'e', 'f', 'r']"
      ]
     },
     "execution_count": 15,
     "metadata": {},
     "output_type": "execute_result"
    }
   ],
   "source": [
    "char_list.sort()\n",
    "char_list"
   ]
  },
  {
   "cell_type": "code",
   "execution_count": 16,
   "id": "59c9c590",
   "metadata": {},
   "outputs": [],
   "source": [
    "num_list.sort()"
   ]
  },
  {
   "cell_type": "code",
   "execution_count": 17,
   "id": "3900a182",
   "metadata": {},
   "outputs": [
    {
     "data": {
      "text/plain": [
       "['0', '13', '15', '2', '3']"
      ]
     },
     "execution_count": 17,
     "metadata": {},
     "output_type": "execute_result"
    }
   ],
   "source": [
    "num_list"
   ]
  },
  {
   "cell_type": "code",
   "execution_count": 18,
   "id": "9ffff0a5",
   "metadata": {},
   "outputs": [],
   "source": [
    "num_list = [0, 13, 15, 2, 3]\n"
   ]
  },
  {
   "cell_type": "code",
   "execution_count": 19,
   "id": "3cd80a68",
   "metadata": {},
   "outputs": [
    {
     "data": {
      "text/plain": [
       "[0, 13, 15, 2, 3]"
      ]
     },
     "execution_count": 19,
     "metadata": {},
     "output_type": "execute_result"
    }
   ],
   "source": [
    "num_list"
   ]
  },
  {
   "cell_type": "code",
   "execution_count": 20,
   "id": "41f5967f",
   "metadata": {},
   "outputs": [],
   "source": [
    "num_list.sort()"
   ]
  },
  {
   "cell_type": "code",
   "execution_count": 21,
   "id": "e5c5f7ca",
   "metadata": {},
   "outputs": [
    {
     "data": {
      "text/plain": [
       "[0, 2, 3, 13, 15]"
      ]
     },
     "execution_count": 21,
     "metadata": {},
     "output_type": "execute_result"
    }
   ],
   "source": [
    "num_list"
   ]
  },
  {
   "cell_type": "code",
   "execution_count": 22,
   "id": "bcc8baf4",
   "metadata": {},
   "outputs": [
    {
     "data": {
      "text/plain": [
       "[0, 3, 15]"
      ]
     },
     "execution_count": 22,
     "metadata": {},
     "output_type": "execute_result"
    }
   ],
   "source": [
    "num_list[0::2]"
   ]
  },
  {
   "cell_type": "code",
   "execution_count": null,
   "id": "93fbc3e9",
   "metadata": {},
   "outputs": [],
   "source": []
  }
 ],
 "metadata": {
  "kernelspec": {
   "display_name": "Python 3 (ipykernel)",
   "language": "python",
   "name": "python3"
  },
  "language_info": {
   "codemirror_mode": {
    "name": "ipython",
    "version": 3
   },
   "file_extension": ".py",
   "mimetype": "text/x-python",
   "name": "python",
   "nbconvert_exporter": "python",
   "pygments_lexer": "ipython3",
   "version": "3.9.7"
  }
 },
 "nbformat": 4,
 "nbformat_minor": 5
}
