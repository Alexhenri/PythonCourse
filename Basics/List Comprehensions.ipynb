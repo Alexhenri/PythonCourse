{
 "cells": [
  {
   "cell_type": "code",
   "execution_count": 1,
   "id": "3133c1e3",
   "metadata": {},
   "outputs": [],
   "source": [
    "mylist = list(range(0,10))"
   ]
  },
  {
   "cell_type": "code",
   "execution_count": 2,
   "id": "7bba0221",
   "metadata": {},
   "outputs": [
    {
     "data": {
      "text/plain": [
       "[0, 1, 2, 3, 4, 5, 6, 7, 8, 9]"
      ]
     },
     "execution_count": 2,
     "metadata": {},
     "output_type": "execute_result"
    }
   ],
   "source": [
    "mylist"
   ]
  },
  {
   "cell_type": "code",
   "execution_count": 3,
   "id": "ba8afef3",
   "metadata": {},
   "outputs": [],
   "source": [
    "mylist = [num for num in range(0,10)]"
   ]
  },
  {
   "cell_type": "code",
   "execution_count": 4,
   "id": "91eb2345",
   "metadata": {},
   "outputs": [
    {
     "data": {
      "text/plain": [
       "[0, 1, 2, 3, 4, 5, 6, 7, 8, 9]"
      ]
     },
     "execution_count": 4,
     "metadata": {},
     "output_type": "execute_result"
    }
   ],
   "source": [
    "mylist"
   ]
  },
  {
   "cell_type": "code",
   "execution_count": 5,
   "id": "cfb20f14",
   "metadata": {},
   "outputs": [],
   "source": [
    "mylist = list(range(0,10,2))"
   ]
  },
  {
   "cell_type": "code",
   "execution_count": 6,
   "id": "5e482b9e",
   "metadata": {},
   "outputs": [
    {
     "data": {
      "text/plain": [
       "[0, 2, 4, 6, 8]"
      ]
     },
     "execution_count": 6,
     "metadata": {},
     "output_type": "execute_result"
    }
   ],
   "source": [
    "mylist"
   ]
  },
  {
   "cell_type": "code",
   "execution_count": 7,
   "id": "27b2d899",
   "metadata": {},
   "outputs": [],
   "source": [
    "mylist = [num for num in range(0,10) if num%2 ==0]"
   ]
  },
  {
   "cell_type": "code",
   "execution_count": 8,
   "id": "262f00bd",
   "metadata": {},
   "outputs": [
    {
     "data": {
      "text/plain": [
       "[0, 2, 4, 6, 8]"
      ]
     },
     "execution_count": 8,
     "metadata": {},
     "output_type": "execute_result"
    }
   ],
   "source": [
    "mylist"
   ]
  },
  {
   "cell_type": "code",
   "execution_count": 9,
   "id": "92b978ae",
   "metadata": {},
   "outputs": [],
   "source": [
    "word = \"Alexandre\"\n",
    "myLetters = []\n",
    "\n",
    "for letter in word:\n",
    "    myLetters.append(letter)"
   ]
  },
  {
   "cell_type": "code",
   "execution_count": 10,
   "id": "df695625",
   "metadata": {},
   "outputs": [
    {
     "data": {
      "text/plain": [
       "['A', 'l', 'e', 'x', 'a', 'n', 'd', 'r', 'e']"
      ]
     },
     "execution_count": 10,
     "metadata": {},
     "output_type": "execute_result"
    }
   ],
   "source": [
    "myLetters"
   ]
  },
  {
   "cell_type": "code",
   "execution_count": 11,
   "id": "e0f4f86d",
   "metadata": {},
   "outputs": [],
   "source": [
    "myLetters = []"
   ]
  },
  {
   "cell_type": "code",
   "execution_count": 13,
   "id": "1f807b78",
   "metadata": {},
   "outputs": [],
   "source": [
    "myLetters  = [letter for letter in word]"
   ]
  },
  {
   "cell_type": "code",
   "execution_count": 14,
   "id": "50682ed0",
   "metadata": {},
   "outputs": [
    {
     "data": {
      "text/plain": [
       "['A', 'l', 'e', 'x', 'a', 'n', 'd', 'r', 'e']"
      ]
     },
     "execution_count": 14,
     "metadata": {},
     "output_type": "execute_result"
    }
   ],
   "source": [
    "myLetters"
   ]
  },
  {
   "cell_type": "code",
   "execution_count": 17,
   "id": "f8c6b2b2",
   "metadata": {},
   "outputs": [],
   "source": [
    "mylist = [x*y for x in [2,4,6] for y in [1, 10, 100]]"
   ]
  },
  {
   "cell_type": "code",
   "execution_count": 19,
   "id": "10a4b2ad",
   "metadata": {},
   "outputs": [
    {
     "data": {
      "text/plain": [
       "[2, 20, 200, 4, 40, 400, 6, 60, 600]"
      ]
     },
     "execution_count": 19,
     "metadata": {},
     "output_type": "execute_result"
    }
   ],
   "source": [
    "mylist"
   ]
  },
  {
   "cell_type": "code",
   "execution_count": null,
   "id": "38200b90",
   "metadata": {},
   "outputs": [],
   "source": []
  }
 ],
 "metadata": {
  "kernelspec": {
   "display_name": "Python 3 (ipykernel)",
   "language": "python",
   "name": "python3"
  },
  "language_info": {
   "codemirror_mode": {
    "name": "ipython",
    "version": 3
   },
   "file_extension": ".py",
   "mimetype": "text/x-python",
   "name": "python",
   "nbconvert_exporter": "python",
   "pygments_lexer": "ipython3",
   "version": "3.9.7"
  }
 },
 "nbformat": 4,
 "nbformat_minor": 5
}
