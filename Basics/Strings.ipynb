{
 "cells": [
  {
   "cell_type": "code",
   "execution_count": 6,
   "id": "164e2ee7",
   "metadata": {},
   "outputs": [
    {
     "name": "stdout",
     "output_type": "stream",
     "text": [
      "{frase}\n"
     ]
    }
   ],
   "source": [
    "frase = \"testando\"\n",
    "print(\"{frase}\")"
   ]
  },
  {
   "cell_type": "code",
   "execution_count": 7,
   "id": "c5973083",
   "metadata": {},
   "outputs": [
    {
     "name": "stdout",
     "output_type": "stream",
     "text": [
      "testando\n"
     ]
    }
   ],
   "source": [
    "frase = \"testando\"\n",
    "print(f\"{frase}\")"
   ]
  },
  {
   "cell_type": "code",
   "execution_count": 9,
   "id": "b19c534e",
   "metadata": {},
   "outputs": [
    {
     "name": "stdout",
     "output_type": "stream",
     "text": [
      "testando\n"
     ]
    }
   ],
   "source": [
    "print(\"{}\".format(frase))"
   ]
  },
  {
   "cell_type": "code",
   "execution_count": 10,
   "id": "a5b6dd5e",
   "metadata": {},
   "outputs": [
    {
     "name": "stdout",
     "output_type": "stream",
     "text": [
      "testando testando2\n"
     ]
    }
   ],
   "source": [
    "frase2 = \"testando2\"\n",
    "print(\"{} {}\".format(frase, frase2))"
   ]
  },
  {
   "cell_type": "code",
   "execution_count": 11,
   "id": "b72e650d",
   "metadata": {},
   "outputs": [
    {
     "name": "stdout",
     "output_type": "stream",
     "text": [
      "testando2 testando\n"
     ]
    }
   ],
   "source": [
    "print(\"{1} {0}\".format(frase, frase2))"
   ]
  },
  {
   "cell_type": "code",
   "execution_count": 12,
   "id": "5caeee5b",
   "metadata": {},
   "outputs": [
    {
     "data": {
      "text/plain": [
       "'TESTANDO2'"
      ]
     },
     "execution_count": 12,
     "metadata": {},
     "output_type": "execute_result"
    }
   ],
   "source": [
    "frase2.upper()"
   ]
  },
  {
   "cell_type": "code",
   "execution_count": 13,
   "id": "f5e2283a",
   "metadata": {},
   "outputs": [
    {
     "data": {
      "text/plain": [
       "'testando2'"
      ]
     },
     "execution_count": 13,
     "metadata": {},
     "output_type": "execute_result"
    }
   ],
   "source": [
    "frase2"
   ]
  },
  {
   "cell_type": "code",
   "execution_count": null,
   "id": "81d17425",
   "metadata": {},
   "outputs": [],
   "source": []
  }
 ],
 "metadata": {
  "kernelspec": {
   "display_name": "Python 3 (ipykernel)",
   "language": "python",
   "name": "python3"
  },
  "language_info": {
   "codemirror_mode": {
    "name": "ipython",
    "version": 3
   },
   "file_extension": ".py",
   "mimetype": "text/x-python",
   "name": "python",
   "nbconvert_exporter": "python",
   "pygments_lexer": "ipython3",
   "version": "3.9.7"
  }
 },
 "nbformat": 4,
 "nbformat_minor": 5
}
