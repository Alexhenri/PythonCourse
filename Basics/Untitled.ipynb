{
 "cells": [
  {
   "cell_type": "code",
   "execution_count": 7,
   "id": "1bc1f9d5",
   "metadata": {},
   "outputs": [
    {
     "data": {
      "text/plain": [
       "True"
      ]
     },
     "execution_count": 7,
     "metadata": {},
     "output_type": "execute_result"
    }
   ],
   "source": [
    "1 in range(1,3+1)"
   ]
  },
  {
   "cell_type": "code",
   "execution_count": 8,
   "id": "a78d3d6a",
   "metadata": {},
   "outputs": [
    {
     "ename": "SyntaxError",
     "evalue": "invalid syntax (2461123608.py, line 1)",
     "output_type": "error",
     "traceback": [
      "\u001b[0;36m  File \u001b[0;32m\"/var/folders/cg/wtnqf9vx0gxg1n7vtpbf3_400000gn/T/ipykernel_49631/2461123608.py\"\u001b[0;36m, line \u001b[0;32m1\u001b[0m\n\u001b[0;31m    my listlist(ta)\u001b[0m\n\u001b[0m       ^\u001b[0m\n\u001b[0;31mSyntaxError\u001b[0m\u001b[0;31m:\u001b[0m invalid syntax\n"
     ]
    }
   ],
   "source": [
    "my listlist(ta)"
   ]
  },
  {
   "cell_type": "code",
   "execution_count": 9,
   "id": "de8a8382",
   "metadata": {},
   "outputs": [],
   "source": [
    " mylist = list(range(2,6))"
   ]
  },
  {
   "cell_type": "code",
   "execution_count": 10,
   "id": "e512da54",
   "metadata": {},
   "outputs": [
    {
     "data": {
      "text/plain": [
       "[2, 3, 4, 5]"
      ]
     },
     "execution_count": 10,
     "metadata": {},
     "output_type": "execute_result"
    }
   ],
   "source": [
    "mylist"
   ]
  },
  {
   "cell_type": "code",
   "execution_count": 34,
   "id": "5bc4f5e7",
   "metadata": {},
   "outputs": [],
   "source": [
    "mylist = [2, 3 ,2 ,4 ,5 ,6 ,2 ,3 ]"
   ]
  },
  {
   "cell_type": "code",
   "execution_count": 32,
   "id": "8b3e6232",
   "metadata": {},
   "outputs": [
    {
     "data": {
      "text/plain": [
       "[2, 2, 2, 3, 4, 5, 6]"
      ]
     },
     "execution_count": 32,
     "metadata": {},
     "output_type": "execute_result"
    }
   ],
   "source": [
    "mylist"
   ]
  },
  {
   "cell_type": "code",
   "execution_count": 13,
   "id": "c588056c",
   "metadata": {},
   "outputs": [
    {
     "data": {
      "text/plain": [
       "{2, 3, 4, 5, 6}"
      ]
     },
     "execution_count": 13,
     "metadata": {},
     "output_type": "execute_result"
    }
   ],
   "source": [
    "set(mylist)"
   ]
  },
  {
   "cell_type": "code",
   "execution_count": 14,
   "id": "f60bd1f5",
   "metadata": {},
   "outputs": [
    {
     "data": {
      "text/plain": [
       "[2, 3, 4, 5, 6]"
      ]
     },
     "execution_count": 14,
     "metadata": {},
     "output_type": "execute_result"
    }
   ],
   "source": [
    "list(set(mylist))"
   ]
  },
  {
   "cell_type": "code",
   "execution_count": 15,
   "id": "91d61753",
   "metadata": {},
   "outputs": [
    {
     "data": {
      "text/plain": [
       "[2, 3, 2, 4, 5, 6, 2, 3]"
      ]
     },
     "execution_count": 15,
     "metadata": {},
     "output_type": "execute_result"
    }
   ],
   "source": [
    "mylist"
   ]
  },
  {
   "cell_type": "code",
   "execution_count": 16,
   "id": "e0785147",
   "metadata": {},
   "outputs": [
    {
     "data": {
      "text/plain": [
       "3"
      ]
     },
     "execution_count": 16,
     "metadata": {},
     "output_type": "execute_result"
    }
   ],
   "source": [
    "mylist.pop()"
   ]
  },
  {
   "cell_type": "code",
   "execution_count": 29,
   "id": "88073f27",
   "metadata": {},
   "outputs": [
    {
     "data": {
      "text/plain": [
       "[2, 2, 2, 3, 4, 5, 6]"
      ]
     },
     "execution_count": 29,
     "metadata": {},
     "output_type": "execute_result"
    }
   ],
   "source": [
    "mylist"
   ]
  },
  {
   "cell_type": "code",
   "execution_count": 20,
   "id": "572a540b",
   "metadata": {},
   "outputs": [],
   "source": [
    "mystring = 'aolla'"
   ]
  },
  {
   "cell_type": "code",
   "execution_count": 21,
   "id": "ae930c51",
   "metadata": {},
   "outputs": [
    {
     "data": {
      "text/plain": [
       "'alloa'"
      ]
     },
     "execution_count": 21,
     "metadata": {},
     "output_type": "execute_result"
    }
   ],
   "source": [
    "mystring[::-1]"
   ]
  },
  {
   "cell_type": "code",
   "execution_count": 22,
   "id": "72cb33a4",
   "metadata": {},
   "outputs": [
    {
     "data": {
      "text/plain": [
       "{'a', 'l', 'o'}"
      ]
     },
     "execution_count": 22,
     "metadata": {},
     "output_type": "execute_result"
    }
   ],
   "source": [
    "set(mystring)"
   ]
  },
  {
   "cell_type": "code",
   "execution_count": 23,
   "id": "9a909dae",
   "metadata": {},
   "outputs": [
    {
     "data": {
      "text/plain": [
       "['a', 'o', 'l', 'l', 'a']"
      ]
     },
     "execution_count": 23,
     "metadata": {},
     "output_type": "execute_result"
    }
   ],
   "source": [
    "list(mystring)"
   ]
  },
  {
   "cell_type": "code",
   "execution_count": 24,
   "id": "9ba11d50",
   "metadata": {},
   "outputs": [
    {
     "ename": "AttributeError",
     "evalue": "'str' object has no attribute 'sort'",
     "output_type": "error",
     "traceback": [
      "\u001b[0;31m---------------------------------------------------------------------------\u001b[0m",
      "\u001b[0;31mAttributeError\u001b[0m                            Traceback (most recent call last)",
      "\u001b[0;32m/var/folders/cg/wtnqf9vx0gxg1n7vtpbf3_400000gn/T/ipykernel_49631/2345561425.py\u001b[0m in \u001b[0;36m<module>\u001b[0;34m\u001b[0m\n\u001b[0;32m----> 1\u001b[0;31m \u001b[0mmystring\u001b[0m\u001b[0;34m.\u001b[0m\u001b[0msort\u001b[0m\u001b[0;34m(\u001b[0m\u001b[0;34m)\u001b[0m\u001b[0;34m\u001b[0m\u001b[0;34m\u001b[0m\u001b[0m\n\u001b[0m",
      "\u001b[0;31mAttributeError\u001b[0m: 'str' object has no attribute 'sort'"
     ]
    }
   ],
   "source": [
    "mystring.sort()"
   ]
  },
  {
   "cell_type": "code",
   "execution_count": 25,
   "id": "6478c92f",
   "metadata": {},
   "outputs": [],
   "source": [
    "mylist.sort()"
   ]
  },
  {
   "cell_type": "code",
   "execution_count": 41,
   "id": "ad76bea6",
   "metadata": {},
   "outputs": [],
   "source": [
    "mylist = ['c', 'e', 'a' , 'b', 'e', 'f', 'z', 'h', 'i']"
   ]
  },
  {
   "cell_type": "code",
   "execution_count": 42,
   "id": "683fbc48",
   "metadata": {},
   "outputs": [
    {
     "data": {
      "text/plain": [
       "{'a', 'b', 'c', 'e', 'f', 'h', 'i', 'z'}"
      ]
     },
     "execution_count": 42,
     "metadata": {},
     "output_type": "execute_result"
    }
   ],
   "source": [
    "set(mylist)"
   ]
  },
  {
   "cell_type": "code",
   "execution_count": 43,
   "id": "7083d9a2",
   "metadata": {},
   "outputs": [],
   "source": [
    "teste = ['t', 'h', 'e', ' ', 'q', 'u', 'i', 'c', 'k', ' ', 'b', 'r', 'o', 'w', 'n', ' ', 'f', 'o', 'x', ' ', 'j', 'u', 'm', 'p', 's', ' ', 'o', 'v', 'e', 'r', ' ', 't', 'h', 'e', ' ', 'l', 'a', 'z', 'y', ' ', 'd', 'o', 'g']\n",
    "\n"
   ]
  },
  {
   "cell_type": "code",
   "execution_count": 44,
   "id": "a1ca858f",
   "metadata": {},
   "outputs": [
    {
     "data": {
      "text/plain": [
       "['t',\n",
       " 'h',\n",
       " 'e',\n",
       " ' ',\n",
       " 'q',\n",
       " 'u',\n",
       " 'i',\n",
       " 'c',\n",
       " 'k',\n",
       " ' ',\n",
       " 'b',\n",
       " 'r',\n",
       " 'o',\n",
       " 'w',\n",
       " 'n',\n",
       " ' ',\n",
       " 'f',\n",
       " 'o',\n",
       " 'x',\n",
       " ' ',\n",
       " 'j',\n",
       " 'u',\n",
       " 'm',\n",
       " 'p',\n",
       " 's',\n",
       " ' ',\n",
       " 'o',\n",
       " 'v',\n",
       " 'e',\n",
       " 'r',\n",
       " ' ',\n",
       " 't',\n",
       " 'h',\n",
       " 'e',\n",
       " ' ',\n",
       " 'l',\n",
       " 'a',\n",
       " 'z',\n",
       " 'y',\n",
       " ' ',\n",
       " 'd',\n",
       " 'o',\n",
       " 'g']"
      ]
     },
     "execution_count": 44,
     "metadata": {},
     "output_type": "execute_result"
    }
   ],
   "source": [
    "teste"
   ]
  },
  {
   "cell_type": "code",
   "execution_count": 45,
   "id": "639ddfd3",
   "metadata": {},
   "outputs": [
    {
     "data": {
      "text/plain": [
       "{' ',\n",
       " 'a',\n",
       " 'b',\n",
       " 'c',\n",
       " 'd',\n",
       " 'e',\n",
       " 'f',\n",
       " 'g',\n",
       " 'h',\n",
       " 'i',\n",
       " 'j',\n",
       " 'k',\n",
       " 'l',\n",
       " 'm',\n",
       " 'n',\n",
       " 'o',\n",
       " 'p',\n",
       " 'q',\n",
       " 'r',\n",
       " 's',\n",
       " 't',\n",
       " 'u',\n",
       " 'v',\n",
       " 'w',\n",
       " 'x',\n",
       " 'y',\n",
       " 'z'}"
      ]
     },
     "execution_count": 45,
     "metadata": {},
     "output_type": "execute_result"
    }
   ],
   "source": [
    "set(teste)"
   ]
  },
  {
   "cell_type": "code",
   "execution_count": 61,
   "id": "f9239a73",
   "metadata": {},
   "outputs": [],
   "source": [
    "def display_Tic_Tac_Toe(mlist):\n",
    "\n",
    "\tprint('  {}  |  {}  |   {}  '.format(mlist[0], mlist [1], mlist[2]))\n",
    "\tprint('------------------')\n",
    "\tprint('  {}  |  {}  |   {}  '.format(mlist[3], mlist [4], mlist[5]))\n",
    "\tprint('------------------')\n",
    "\tprint('  {}  |  {}  |   {}  '.format(mlist[6], mlist [7], mlist[8]))"
   ]
  },
  {
   "cell_type": "code",
   "execution_count": 59,
   "id": "f8ac07b1",
   "metadata": {},
   "outputs": [],
   "source": [
    "mylist = [' ', ' ', ' ', ' ', ' ', ' ', ' ', ' ', ' ']\n",
    "\n",
    "\n",
    "    "
   ]
  },
  {
   "cell_type": "code",
   "execution_count": 62,
   "id": "3827119a",
   "metadata": {},
   "outputs": [
    {
     "name": "stdout",
     "output_type": "stream",
     "text": [
      "     |     |      \n",
      "------------------\n",
      "     |     |      \n",
      "------------------\n",
      "     |     |      \n"
     ]
    }
   ],
   "source": [
    "display_Tic_Tac_Toe(mylist)    "
   ]
  },
  {
   "cell_type": "code",
   "execution_count": 63,
   "id": "319a29ed",
   "metadata": {},
   "outputs": [],
   "source": [
    "def getPlayersName():\n",
    "\tplayerOne = input('Type the name of Player One\\n')\n",
    "\tprint('Hello {} you will be \"X\"'.format(playerOne))\n",
    "\tplayerTwo =\tinput('Type the name of Player Two\\n')\n",
    "\tprint('Hello {} you will be \"O\"'.format(playerTwo))\n",
    "\n",
    "\treturn ([playerOne, 'X'] , [playerTwo, 'O'])"
   ]
  },
  {
   "cell_type": "code",
   "execution_count": 64,
   "id": "d0d046f3",
   "metadata": {},
   "outputs": [
    {
     "name": "stdout",
     "output_type": "stream",
     "text": [
      "Type the name of Player One\n",
      "Alexandre\n",
      "Hello Alexandre you will be \"X\"\n",
      "Type the name of Player Two\n",
      "Raissa\n",
      "Hello Raissa you will be \"O\"\n"
     ]
    },
    {
     "data": {
      "text/plain": [
       "(['Alexandre', 'X'], ['Raissa', 'O'])"
      ]
     },
     "execution_count": 64,
     "metadata": {},
     "output_type": "execute_result"
    }
   ],
   "source": [
    "getPlayersName()"
   ]
  },
  {
   "cell_type": "code",
   "execution_count": null,
   "id": "6262069c",
   "metadata": {},
   "outputs": [],
   "source": []
  }
 ],
 "metadata": {
  "kernelspec": {
   "display_name": "Python 3 (ipykernel)",
   "language": "python",
   "name": "python3"
  },
  "language_info": {
   "codemirror_mode": {
    "name": "ipython",
    "version": 3
   },
   "file_extension": ".py",
   "mimetype": "text/x-python",
   "name": "python",
   "nbconvert_exporter": "python",
   "pygments_lexer": "ipython3",
   "version": "3.9.7"
  }
 },
 "nbformat": 4,
 "nbformat_minor": 5
}
