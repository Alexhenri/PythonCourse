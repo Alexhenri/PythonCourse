{
 "cells": [
  {
   "cell_type": "code",
   "execution_count": 1,
   "id": "26399ca3",
   "metadata": {},
   "outputs": [
    {
     "name": "stdout",
     "output_type": "stream",
     "text": [
      "1\n",
      "2\n",
      "3\n",
      "4\n"
     ]
    }
   ],
   "source": [
    "myLoop = [1, 2 ,3 ,4]\n",
    "\n",
    "for itens_name in myLoop:\n",
    "    print(itens_name)"
   ]
  },
  {
   "cell_type": "code",
   "execution_count": 2,
   "id": "7653202e",
   "metadata": {},
   "outputs": [
    {
     "name": "stdout",
     "output_type": "stream",
     "text": [
      "1\n",
      "2\n",
      "3\n",
      "4\n",
      "5\n",
      "6\n",
      "7\n",
      "8\n",
      "9\n",
      "10\n"
     ]
    }
   ],
   "source": [
    "myList = [1,2,3,4,5,6,7,8,9,10]\n",
    "\n",
    "for num in myList:\n",
    "    print(num)"
   ]
  },
  {
   "cell_type": "code",
   "execution_count": 7,
   "id": "d5f24c97",
   "metadata": {},
   "outputs": [
    {
     "name": "stdout",
     "output_type": "stream",
     "text": [
      "1 é impar!\n",
      "\n",
      "2 é par!\n",
      "\n",
      "3 é impar!\n",
      "\n",
      "4 é par!\n",
      "\n",
      "5 é impar!\n",
      "\n",
      "6 é par!\n",
      "\n",
      "7 é impar!\n",
      "\n",
      "8 é par!\n",
      "\n",
      "9 é impar!\n",
      "\n",
      "10 é par!\n",
      "\n"
     ]
    }
   ],
   "source": [
    "for num in myList:\n",
    "    if (num % 2):\n",
    "        print(f\"{num} é impar!\\n\")\n",
    "    else:\n",
    "        print(f\"{num} é par!\\n\")"
   ]
  },
  {
   "cell_type": "code",
   "execution_count": 8,
   "id": "817b81e0",
   "metadata": {},
   "outputs": [
    {
     "name": "stdout",
     "output_type": "stream",
     "text": [
      "H\n",
      "e\n",
      "l\n",
      "l\n",
      "o\n",
      " \n",
      "F\n",
      "o\n",
      "r\n",
      " \n",
      "L\n",
      "o\n",
      "o\n",
      "p\n",
      "s\n"
     ]
    }
   ],
   "source": [
    "myString = 'Hello For Loops'\n",
    "\n",
    "for letter in myString:\n",
    "    print(letter)"
   ]
  },
  {
   "cell_type": "markdown",
   "id": "8517f54f",
   "metadata": {},
   "source": [
    "\n",
    "\n"
   ]
  },
  {
   "cell_type": "code",
   "execution_count": 9,
   "id": "006af03b",
   "metadata": {},
   "outputs": [
    {
     "data": {
      "text/plain": [
       "4"
      ]
     },
     "execution_count": 9,
     "metadata": {},
     "output_type": "execute_result"
    }
   ],
   "source": [
    "myList2 = [[1,2],[3,4],[5,6],[7,8]]\n",
    "len(myList2)"
   ]
  },
  {
   "cell_type": "code",
   "execution_count": 10,
   "id": "3622e783",
   "metadata": {},
   "outputs": [
    {
     "name": "stdout",
     "output_type": "stream",
     "text": [
      "[1, 2]\n",
      "[3, 4]\n",
      "[5, 6]\n",
      "[7, 8]\n"
     ]
    }
   ],
   "source": [
    "for item in myList2:\n",
    "    print(item)"
   ]
  },
  {
   "cell_type": "code",
   "execution_count": 12,
   "id": "11086d63",
   "metadata": {},
   "outputs": [
    {
     "name": "stdout",
     "output_type": "stream",
     "text": [
      "1\n",
      "2\n",
      "3\n",
      "4\n",
      "5\n",
      "6\n",
      "7\n",
      "8\n"
     ]
    }
   ],
   "source": [
    "for [a,b] in myList2:\n",
    "    print(a)\n",
    "    print(b)"
   ]
  },
  {
   "cell_type": "code",
   "execution_count": 14,
   "id": "f6524cb9",
   "metadata": {},
   "outputs": [
    {
     "name": "stdout",
     "output_type": "stream",
     "text": [
      "1\n",
      "2\n",
      "3\n",
      "4\n",
      "5\n",
      "6\n",
      "7\n",
      "8\n"
     ]
    }
   ],
   "source": [
    "# Geralmente fazem isso com Tuples!! Tuples unpacking\n",
    "myListTuples = [(1,2),(3,4),(5,6),(7,8)]\n",
    "for a,b in myListTuples:\n",
    "    print(a)\n",
    "    print(b)"
   ]
  },
  {
   "cell_type": "code",
   "execution_count": 15,
   "id": "e2be2eae",
   "metadata": {},
   "outputs": [
    {
     "name": "stdout",
     "output_type": "stream",
     "text": [
      "1\n",
      "4\n",
      "6\n"
     ]
    }
   ],
   "source": [
    "myListTuples = [(1,2,3),(4,5,6),(6,7,8)]\n",
    "for a,b,c in myListTuples:\n",
    "    print(a)"
   ]
  },
  {
   "cell_type": "code",
   "execution_count": 16,
   "id": "23d60cf1",
   "metadata": {},
   "outputs": [
    {
     "name": "stdout",
     "output_type": "stream",
     "text": [
      "k1\n",
      "k2\n",
      "k3\n"
     ]
    }
   ],
   "source": [
    "# Works for dictionaries too\n",
    "d = {'k1':'value1','k2':'value2', 'k3':'value3'}\n",
    "\n",
    "# this way only get keys\n",
    "for item in d:\n",
    "    print(item) "
   ]
  },
  {
   "cell_type": "code",
   "execution_count": 20,
   "id": "ed8042e3",
   "metadata": {},
   "outputs": [
    {
     "name": "stdout",
     "output_type": "stream",
     "text": [
      "('k1', 'value1')\n",
      "('k2', 'value2')\n",
      "('k3', 'value3')\n"
     ]
    }
   ],
   "source": [
    "# this way get both\n",
    "for item in d.items():\n",
    "    print(item)"
   ]
  },
  {
   "cell_type": "code",
   "execution_count": 18,
   "id": "c3916dd8",
   "metadata": {},
   "outputs": [
    {
     "name": "stdout",
     "output_type": "stream",
     "text": [
      "This is key:k1 and this is value:value1\n",
      "This is key:k2 and this is value:value2\n",
      "This is key:k3 and this is value:value3\n"
     ]
    }
   ],
   "source": [
    "# this way get both\n",
    "for key,value in d.items():\n",
    "    print(f'This is key:{key} and this is value:{value}')"
   ]
  },
  {
   "cell_type": "code",
   "execution_count": null,
   "id": "6be910ff",
   "metadata": {},
   "outputs": [],
   "source": [
    "# for _ in myList é o padrao quando nao queremos nenhuma variavel."
   ]
  }
 ],
 "metadata": {
  "kernelspec": {
   "display_name": "Python 3 (ipykernel)",
   "language": "python",
   "name": "python3"
  },
  "language_info": {
   "codemirror_mode": {
    "name": "ipython",
    "version": 3
   },
   "file_extension": ".py",
   "mimetype": "text/x-python",
   "name": "python",
   "nbconvert_exporter": "python",
   "pygments_lexer": "ipython3",
   "version": "3.9.7"
  }
 },
 "nbformat": 4,
 "nbformat_minor": 5
}
