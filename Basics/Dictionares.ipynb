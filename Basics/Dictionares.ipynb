{
 "cells": [
  {
   "cell_type": "code",
   "execution_count": 1,
   "id": "7867a0c3",
   "metadata": {},
   "outputs": [],
   "source": [
    "dicti = {\"k1\": \"value1\", \"k2\" : [1,2,3], \"k3\" : 4, \"k4\": {\"kIn1\": \"valueIn 1\", \"kIn2\": \"valueIn 2\"}}"
   ]
  },
  {
   "cell_type": "code",
   "execution_count": 2,
   "id": "77207a58",
   "metadata": {},
   "outputs": [
    {
     "data": {
      "text/plain": [
       "{'k1': 'value1',\n",
       " 'k2': [1, 2, 3],\n",
       " 'k3': 4,\n",
       " 'k4': {'kIn1': 'valueIn 1', 'kIn2': 'valueIn 2'}}"
      ]
     },
     "execution_count": 2,
     "metadata": {},
     "output_type": "execute_result"
    }
   ],
   "source": [
    "dicti"
   ]
  },
  {
   "cell_type": "code",
   "execution_count": 4,
   "id": "2c4e43c1",
   "metadata": {},
   "outputs": [
    {
     "data": {
      "text/plain": [
       "'value1'"
      ]
     },
     "execution_count": 4,
     "metadata": {},
     "output_type": "execute_result"
    }
   ],
   "source": [
    "dicti[\"k1\"]"
   ]
  },
  {
   "cell_type": "code",
   "execution_count": 5,
   "id": "269664a4",
   "metadata": {},
   "outputs": [
    {
     "data": {
      "text/plain": [
       "[1, 2, 3]"
      ]
     },
     "execution_count": 5,
     "metadata": {},
     "output_type": "execute_result"
    }
   ],
   "source": [
    "dicti[\"k2\"]"
   ]
  },
  {
   "cell_type": "code",
   "execution_count": 6,
   "id": "89478edf",
   "metadata": {},
   "outputs": [
    {
     "data": {
      "text/plain": [
       "[1, 3]"
      ]
     },
     "execution_count": 6,
     "metadata": {},
     "output_type": "execute_result"
    }
   ],
   "source": [
    "dicti[\"k2\"][::2]"
   ]
  },
  {
   "cell_type": "code",
   "execution_count": 8,
   "id": "6978bd12",
   "metadata": {},
   "outputs": [
    {
     "data": {
      "text/plain": [
       "'valueIn 2'"
      ]
     },
     "execution_count": 8,
     "metadata": {},
     "output_type": "execute_result"
    }
   ],
   "source": [
    "dicti[\"k4\"][\"kIn2\"]"
   ]
  },
  {
   "cell_type": "code",
   "execution_count": 9,
   "id": "9993fd45",
   "metadata": {},
   "outputs": [
    {
     "data": {
      "text/plain": [
       "'VALUEIN 2'"
      ]
     },
     "execution_count": 9,
     "metadata": {},
     "output_type": "execute_result"
    }
   ],
   "source": [
    "dicti[\"k4\"][\"kIn2\"].upper()"
   ]
  },
  {
   "cell_type": "code",
   "execution_count": 10,
   "id": "2000585b",
   "metadata": {},
   "outputs": [
    {
     "data": {
      "text/plain": [
       "dict_keys(['k1', 'k2', 'k3', 'k4'])"
      ]
     },
     "execution_count": 10,
     "metadata": {},
     "output_type": "execute_result"
    }
   ],
   "source": [
    "dicti.keys()"
   ]
  },
  {
   "cell_type": "code",
   "execution_count": 11,
   "id": "49d1d169",
   "metadata": {},
   "outputs": [
    {
     "data": {
      "text/plain": [
       "dict_values(['value1', [1, 2, 3], 4, {'kIn1': 'valueIn 1', 'kIn2': 'valueIn 2'}])"
      ]
     },
     "execution_count": 11,
     "metadata": {},
     "output_type": "execute_result"
    }
   ],
   "source": [
    "dicti.values()"
   ]
  },
  {
   "cell_type": "code",
   "execution_count": 12,
   "id": "cb0a4b1f",
   "metadata": {},
   "outputs": [
    {
     "data": {
      "text/plain": [
       "dict_items([('k1', 'value1'), ('k2', [1, 2, 3]), ('k3', 4), ('k4', {'kIn1': 'valueIn 1', 'kIn2': 'valueIn 2'})])"
      ]
     },
     "execution_count": 12,
     "metadata": {},
     "output_type": "execute_result"
    }
   ],
   "source": [
    "dicti.items()"
   ]
  },
  {
   "cell_type": "code",
   "execution_count": 13,
   "id": "6296cb7b",
   "metadata": {},
   "outputs": [],
   "source": [
    "# Dictionaries são muito flexiveis em termos de tipagem!! "
   ]
  },
  {
   "cell_type": "code",
   "execution_count": 14,
   "id": "497b9507",
   "metadata": {},
   "outputs": [],
   "source": [
    "# Porem não tem a opção de ordenação de uma lista"
   ]
  },
  {
   "cell_type": "code",
   "execution_count": 15,
   "id": "d46a5087",
   "metadata": {},
   "outputs": [],
   "source": [
    "dicti[\"k2\"].reverse()"
   ]
  },
  {
   "cell_type": "code",
   "execution_count": 16,
   "id": "125952be",
   "metadata": {},
   "outputs": [
    {
     "data": {
      "text/plain": [
       "[3, 2, 1]"
      ]
     },
     "execution_count": 16,
     "metadata": {},
     "output_type": "execute_result"
    }
   ],
   "source": [
    "dicti[\"k2\"]"
   ]
  },
  {
   "cell_type": "code",
   "execution_count": null,
   "id": "ec60b041",
   "metadata": {},
   "outputs": [],
   "source": []
  }
 ],
 "metadata": {
  "kernelspec": {
   "display_name": "Python 3 (ipykernel)",
   "language": "python",
   "name": "python3"
  },
  "language_info": {
   "codemirror_mode": {
    "name": "ipython",
    "version": 3
   },
   "file_extension": ".py",
   "mimetype": "text/x-python",
   "name": "python",
   "nbconvert_exporter": "python",
   "pygments_lexer": "ipython3",
   "version": "3.9.7"
  }
 },
 "nbformat": 4,
 "nbformat_minor": 5
}
