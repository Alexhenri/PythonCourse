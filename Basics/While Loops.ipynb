{
 "cells": [
  {
   "cell_type": "code",
   "execution_count": 1,
   "id": "fdffdd5e",
   "metadata": {},
   "outputs": [
    {
     "name": "stdout",
     "output_type": "stream",
     "text": [
      "0\n",
      "1\n",
      "2\n",
      "3\n",
      "4\n",
      "5\n",
      "6\n",
      "7\n",
      "8\n",
      "9\n",
      "Finish!\n"
     ]
    }
   ],
   "source": [
    "num = 0\n",
    "\n",
    "while num < 10 :\n",
    "    print(f'{num}')\n",
    "    num += 1\n",
    "# While has Else option\n",
    "else:\n",
    "    print(\"Finish!\")"
   ]
  },
  {
   "cell_type": "code",
   "execution_count": 2,
   "id": "d1c3e40b",
   "metadata": {},
   "outputs": [
    {
     "ename": "IndentationError",
     "evalue": "expected an indented block (2297899948.py, line 13)",
     "output_type": "error",
     "traceback": [
      "\u001b[0;36m  File \u001b[0;32m\"/tmp/ipykernel_8098/2297899948.py\"\u001b[0;36m, line \u001b[0;32m13\u001b[0m\n\u001b[0;31m    \u001b[0m\n\u001b[0m    ^\u001b[0m\n\u001b[0;31mIndentationError\u001b[0m\u001b[0;31m:\u001b[0m expected an indented block\n"
     ]
    }
   ],
   "source": [
    "# Using break, continue and pass\n",
    "\n",
    "# pass is important because i cannot create a function or \n",
    "# a method whithout anything\n",
    "\n",
    "num = 0\n",
    "\n",
    "while num < 10 :\n",
    "    print(f'{num}')\n",
    "    num += 1\n",
    "# While has Else option\n",
    "else:\n",
    "    "
   ]
  },
  {
   "cell_type": "code",
   "execution_count": 3,
   "id": "5914ddf4",
   "metadata": {},
   "outputs": [
    {
     "name": "stdout",
     "output_type": "stream",
     "text": [
      "0\n",
      "1\n",
      "2\n",
      "3\n",
      "4\n",
      "5\n",
      "6\n",
      "7\n",
      "8\n",
      "9\n"
     ]
    }
   ],
   "source": [
    "num = 0\n",
    "\n",
    "while num < 10 :\n",
    "    print(f'{num}')\n",
    "    num += 1\n",
    "# While has Else option\n",
    "else:\n",
    "    pass"
   ]
  },
  {
   "cell_type": "code",
   "execution_count": 5,
   "id": "f18a5c67",
   "metadata": {},
   "outputs": [
    {
     "name": "stdout",
     "output_type": "stream",
     "text": [
      "0\n",
      "2\n",
      "4\n",
      "6\n",
      "8\n",
      "Finish!\n"
     ]
    }
   ],
   "source": [
    "# continue back to the top of the closest loop\n",
    "\n",
    "num = 0\n",
    "\n",
    "while num < 10 :\n",
    "    if num % 2 :\n",
    "        num += 1\n",
    "        continue\n",
    "    print(f'{num}')\n",
    "    num += 1\n",
    "else:\n",
    "    print(\"Finish!\")"
   ]
  },
  {
   "cell_type": "code",
   "execution_count": 6,
   "id": "32724185",
   "metadata": {},
   "outputs": [
    {
     "name": "stdout",
     "output_type": "stream",
     "text": [
      "0\n"
     ]
    }
   ],
   "source": [
    "# break interrupt the closest loop\n",
    "\n",
    "num = 0\n",
    "\n",
    "while num < 10 :\n",
    "    if num % 2 :\n",
    "        num += 1\n",
    "        break\n",
    "    print(f'{num}')\n",
    "    num += 1\n",
    "else:\n",
    "    print(\"Finish!\")\n"
   ]
  },
  {
   "cell_type": "code",
   "execution_count": null,
   "id": "f501185e",
   "metadata": {},
   "outputs": [],
   "source": []
  }
 ],
 "metadata": {
  "kernelspec": {
   "display_name": "Python 3 (ipykernel)",
   "language": "python",
   "name": "python3"
  },
  "language_info": {
   "codemirror_mode": {
    "name": "ipython",
    "version": 3
   },
   "file_extension": ".py",
   "mimetype": "text/x-python",
   "name": "python",
   "nbconvert_exporter": "python",
   "pygments_lexer": "ipython3",
   "version": "3.9.7"
  }
 },
 "nbformat": 4,
 "nbformat_minor": 5
}
