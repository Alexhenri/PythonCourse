{
 "cells": [
  {
   "cell_type": "code",
   "execution_count": 16,
   "id": "35bbf473",
   "metadata": {},
   "outputs": [],
   "source": [
    "import smtplib"
   ]
  },
  {
   "cell_type": "code",
   "execution_count": 17,
   "id": "83def02d",
   "metadata": {},
   "outputs": [],
   "source": [
    "smtp_object = smtplib.SMTP('smtp.gmail.com', 587)"
   ]
  },
  {
   "cell_type": "code",
   "execution_count": 18,
   "id": "17518f92",
   "metadata": {},
   "outputs": [
    {
     "data": {
      "text/plain": [
       "(250,\n",
       " b'smtp.gmail.com at your service, [152.92.210.120]\\nSIZE 35882577\\n8BITMIME\\nSTARTTLS\\nENHANCEDSTATUSCODES\\nPIPELINING\\nCHUNKING\\nSMTPUTF8')"
      ]
     },
     "execution_count": 18,
     "metadata": {},
     "output_type": "execute_result"
    }
   ],
   "source": [
    "smtp_object.ehlo()"
   ]
  },
  {
   "cell_type": "code",
   "execution_count": 19,
   "id": "365d48d7",
   "metadata": {},
   "outputs": [
    {
     "data": {
      "text/plain": [
       "(220, b'2.0.0 Ready to start TLS')"
      ]
     },
     "execution_count": 19,
     "metadata": {},
     "output_type": "execute_result"
    }
   ],
   "source": [
    "smtp_object.starttls()"
   ]
  },
  {
   "cell_type": "code",
   "execution_count": 20,
   "id": "cff6f1e9",
   "metadata": {},
   "outputs": [
    {
     "name": "stdout",
     "output_type": "stream",
     "text": [
      "What is your password: minhasenha\n"
     ]
    }
   ],
   "source": [
    "password = input('What is your password: ')"
   ]
  },
  {
   "cell_type": "code",
   "execution_count": 21,
   "id": "23d789f4",
   "metadata": {},
   "outputs": [],
   "source": [
    "import getpass"
   ]
  },
  {
   "cell_type": "code",
   "execution_count": 22,
   "id": "27db1b7a",
   "metadata": {},
   "outputs": [
    {
     "data": {
      "text/plain": [
       "'minhasenha'"
      ]
     },
     "execution_count": 22,
     "metadata": {},
     "output_type": "execute_result"
    }
   ],
   "source": [
    "password"
   ]
  },
  {
   "cell_type": "code",
   "execution_count": 23,
   "id": "9df21817",
   "metadata": {},
   "outputs": [
    {
     "name": "stdout",
     "output_type": "stream",
     "text": [
      "What is your password: ········\n"
     ]
    }
   ],
   "source": [
    "password = getpass.getpass('What is your password: ')"
   ]
  },
  {
   "cell_type": "code",
   "execution_count": 10,
   "id": "f10be39e",
   "metadata": {},
   "outputs": [
    {
     "data": {
      "text/plain": [
       "'minhasenha2'"
      ]
     },
     "execution_count": 10,
     "metadata": {},
     "output_type": "execute_result"
    }
   ],
   "source": [
    "password"
   ]
  },
  {
   "cell_type": "code",
   "execution_count": 24,
   "id": "121e898b",
   "metadata": {},
   "outputs": [
    {
     "name": "stdout",
     "output_type": "stream",
     "text": [
      "Email: alexhenrii13br@gmail.com\n"
     ]
    }
   ],
   "source": [
    "email = input('Email: ')"
   ]
  },
  {
   "cell_type": "code",
   "execution_count": 25,
   "id": "ef60cb77",
   "metadata": {},
   "outputs": [
    {
     "data": {
      "text/plain": [
       "(235, b'2.7.0 Accepted')"
      ]
     },
     "execution_count": 25,
     "metadata": {},
     "output_type": "execute_result"
    }
   ],
   "source": [
    "smtp_object.login(email,password)"
   ]
  },
  {
   "cell_type": "code",
   "execution_count": 26,
   "id": "3e000a66",
   "metadata": {},
   "outputs": [
    {
     "name": "stdout",
     "output_type": "stream",
     "text": [
      "enter the subject line: Python Course Teste\n",
      "enter the body message: This is my message body from my python script\n"
     ]
    }
   ],
   "source": [
    "from_email = email\n",
    "to_email = email\n",
    "from_address = from_email\n",
    "to_address = to_email\n",
    "subject = input('enter the subject line: ')\n",
    "message = input('enter the body message: ')\n",
    "msg = \"Subject: \"+subject+'\\n'+message\n",
    "\n",
    "#smtp_object.sendmail(from_address, to_address, msg)"
   ]
  },
  {
   "cell_type": "code",
   "execution_count": 27,
   "id": "30e35c44",
   "metadata": {},
   "outputs": [
    {
     "data": {
      "text/plain": [
       "{}"
      ]
     },
     "execution_count": 27,
     "metadata": {},
     "output_type": "execute_result"
    }
   ],
   "source": [
    "smtp_object.sendmail(from_address, to_address, msg)"
   ]
  },
  {
   "cell_type": "code",
   "execution_count": 29,
   "id": "70d90114",
   "metadata": {},
   "outputs": [],
   "source": [
    "raissa = 'montalvao.raissa@hotmail.com'"
   ]
  },
  {
   "cell_type": "code",
   "execution_count": 30,
   "id": "31df1cc9",
   "metadata": {},
   "outputs": [],
   "source": [
    "msg2 = \"Subject: Amor <3\\nTestando envio de email por python. Te Amo\"\n"
   ]
  },
  {
   "cell_type": "code",
   "execution_count": 31,
   "id": "51720fa9",
   "metadata": {},
   "outputs": [
    {
     "data": {
      "text/plain": [
       "{}"
      ]
     },
     "execution_count": 31,
     "metadata": {},
     "output_type": "execute_result"
    }
   ],
   "source": [
    "smtp_object.sendmail(from_address, raissa, msg2)"
   ]
  },
  {
   "cell_type": "code",
   "execution_count": null,
   "id": "489f0865",
   "metadata": {},
   "outputs": [],
   "source": []
  }
 ],
 "metadata": {
  "kernelspec": {
   "display_name": "Python 3 (ipykernel)",
   "language": "python",
   "name": "python3"
  },
  "language_info": {
   "codemirror_mode": {
    "name": "ipython",
    "version": 3
   },
   "file_extension": ".py",
   "mimetype": "text/x-python",
   "name": "python",
   "nbconvert_exporter": "python",
   "pygments_lexer": "ipython3",
   "version": "3.9.7"
  }
 },
 "nbformat": 4,
 "nbformat_minor": 5
}
