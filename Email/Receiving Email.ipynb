{
 "cells": [
  {
   "cell_type": "code",
   "execution_count": 6,
   "id": "08036c23",
   "metadata": {},
   "outputs": [],
   "source": [
    "import imaplib"
   ]
  },
  {
   "cell_type": "code",
   "execution_count": 7,
   "id": "02582dc1",
   "metadata": {},
   "outputs": [],
   "source": [
    "M = imaplib.IMAP4_SSL('imap.gmail.com') #people usually uses M for this variable"
   ]
  },
  {
   "cell_type": "code",
   "execution_count": 8,
   "id": "21350008",
   "metadata": {},
   "outputs": [],
   "source": [
    "import getpass"
   ]
  },
  {
   "cell_type": "code",
   "execution_count": 9,
   "id": "2c302e77",
   "metadata": {},
   "outputs": [
    {
     "name": "stdout",
     "output_type": "stream",
     "text": [
      "Email: alexhenrii13br@gmail.com\n",
      "Password: ········\n"
     ]
    }
   ],
   "source": [
    "email = input('Email: ')\n",
    "password = getpass.getpass('Password: ')"
   ]
  },
  {
   "cell_type": "code",
   "execution_count": 10,
   "id": "338536b1",
   "metadata": {},
   "outputs": [
    {
     "data": {
      "text/plain": [
       "('OK', [b'alexhenrii13br@gmail.com authenticated (Success)'])"
      ]
     },
     "execution_count": 10,
     "metadata": {},
     "output_type": "execute_result"
    }
   ],
   "source": [
    "M.login(email,password)"
   ]
  },
  {
   "cell_type": "code",
   "execution_count": 11,
   "id": "bf5a55ca",
   "metadata": {},
   "outputs": [
    {
     "data": {
      "text/plain": [
       "('OK',\n",
       " [b'(\\\\HasNoChildren) \"/\" \"INBOX\"',\n",
       "  b'(\\\\HasChildren \\\\Noselect) \"/\" \"[Gmail]\"',\n",
       "  b'(\\\\All \\\\HasNoChildren) \"/\" \"[Gmail]/All Mail\"',\n",
       "  b'(\\\\Drafts \\\\HasNoChildren) \"/\" \"[Gmail]/Drafts\"',\n",
       "  b'(\\\\HasNoChildren \\\\Important) \"/\" \"[Gmail]/Important\"',\n",
       "  b'(\\\\HasNoChildren \\\\Sent) \"/\" \"[Gmail]/Sent Mail\"',\n",
       "  b'(\\\\HasNoChildren \\\\Junk) \"/\" \"[Gmail]/Spam\"',\n",
       "  b'(\\\\Flagged \\\\HasNoChildren) \"/\" \"[Gmail]/Starred\"',\n",
       "  b'(\\\\HasNoChildren \\\\Trash) \"/\" \"[Gmail]/Trash\"'])"
      ]
     },
     "execution_count": 11,
     "metadata": {},
     "output_type": "execute_result"
    }
   ],
   "source": [
    "M.list()"
   ]
  },
  {
   "cell_type": "code",
   "execution_count": 12,
   "id": "438f287e",
   "metadata": {},
   "outputs": [
    {
     "data": {
      "text/plain": [
       "('OK', [b'144'])"
      ]
     },
     "execution_count": 12,
     "metadata": {},
     "output_type": "execute_result"
    }
   ],
   "source": [
    "M.select('inbox')"
   ]
  },
  {
   "cell_type": "code",
   "execution_count": 17,
   "id": "0e14c206",
   "metadata": {},
   "outputs": [],
   "source": [
    "typ, data = M.search(None,'SUBJECT \"Python Course Teste\"')"
   ]
  },
  {
   "cell_type": "code",
   "execution_count": 18,
   "id": "d079a36b",
   "metadata": {},
   "outputs": [
    {
     "data": {
      "text/plain": [
       "'OK'"
      ]
     },
     "execution_count": 18,
     "metadata": {},
     "output_type": "execute_result"
    }
   ],
   "source": [
    "typ"
   ]
  },
  {
   "cell_type": "code",
   "execution_count": 19,
   "id": "04289112",
   "metadata": {},
   "outputs": [
    {
     "data": {
      "text/plain": [
       "[b'143']"
      ]
     },
     "execution_count": 19,
     "metadata": {},
     "output_type": "execute_result"
    }
   ],
   "source": [
    "data"
   ]
  },
  {
   "cell_type": "code",
   "execution_count": 20,
   "id": "b9c00bce",
   "metadata": {},
   "outputs": [],
   "source": [
    "email_id = data[0]"
   ]
  },
  {
   "cell_type": "code",
   "execution_count": 21,
   "id": "59df5761",
   "metadata": {},
   "outputs": [],
   "source": [
    "result, email_data = M.fetch(email_id, '(RFC822)')"
   ]
  },
  {
   "cell_type": "code",
   "execution_count": 22,
   "id": "d870f54e",
   "metadata": {},
   "outputs": [
    {
     "data": {
      "text/plain": [
       "[(b'143 (RFC822 {604}',\n",
       "  b'Bcc: alexhenrii13br@gmail.com\\r\\nReturn-Path: <alexhenrii13br@gmail.com>\\r\\nReceived: from [127.0.1.1] ([152.92.210.120])\\r\\n        by smtp.gmail.com with ESMTPSA id c14-20020a4ac30e000000b00435a8024bc1sm1898668ooq.4.2022.09.28.06.35.16\\r\\n        for <alexhenrii13br@gmail.com>\\r\\n        (version=TLS1_3 cipher=TLS_AES_256_GCM_SHA384 bits=256/256);\\r\\n        Wed, 28 Sep 2022 06:35:17 -0700 (PDT)\\r\\nMessage-ID: <63344d95.4a0a0220.abb08.63de@mx.google.com>\\r\\nDate: Wed, 28 Sep 2022 06:35:17 -0700 (PDT)\\r\\nFrom: alexhenrii13br@gmail.com\\r\\nSubject: Python Course Teste\\r\\n\\r\\nThis is my message body from my python script\\r\\n'),\n",
       " b')']"
      ]
     },
     "execution_count": 22,
     "metadata": {},
     "output_type": "execute_result"
    }
   ],
   "source": [
    "email_data"
   ]
  },
  {
   "cell_type": "code",
   "execution_count": 23,
   "id": "72e8e3dd",
   "metadata": {},
   "outputs": [],
   "source": [
    "raw_email = email_data[0][1]"
   ]
  },
  {
   "cell_type": "code",
   "execution_count": 24,
   "id": "570ca5f4",
   "metadata": {},
   "outputs": [],
   "source": [
    "raw_email_string = raw_email.decode('utf-8')"
   ]
  },
  {
   "cell_type": "code",
   "execution_count": 25,
   "id": "01eb77cd",
   "metadata": {},
   "outputs": [
    {
     "data": {
      "text/plain": [
       "'Bcc: alexhenrii13br@gmail.com\\r\\nReturn-Path: <alexhenrii13br@gmail.com>\\r\\nReceived: from [127.0.1.1] ([152.92.210.120])\\r\\n        by smtp.gmail.com with ESMTPSA id c14-20020a4ac30e000000b00435a8024bc1sm1898668ooq.4.2022.09.28.06.35.16\\r\\n        for <alexhenrii13br@gmail.com>\\r\\n        (version=TLS1_3 cipher=TLS_AES_256_GCM_SHA384 bits=256/256);\\r\\n        Wed, 28 Sep 2022 06:35:17 -0700 (PDT)\\r\\nMessage-ID: <63344d95.4a0a0220.abb08.63de@mx.google.com>\\r\\nDate: Wed, 28 Sep 2022 06:35:17 -0700 (PDT)\\r\\nFrom: alexhenrii13br@gmail.com\\r\\nSubject: Python Course Teste\\r\\n\\r\\nThis is my message body from my python script\\r\\n'"
      ]
     },
     "execution_count": 25,
     "metadata": {},
     "output_type": "execute_result"
    }
   ],
   "source": [
    "raw_email_string"
   ]
  },
  {
   "cell_type": "code",
   "execution_count": 26,
   "id": "1450a327",
   "metadata": {},
   "outputs": [],
   "source": [
    "import email"
   ]
  },
  {
   "cell_type": "code",
   "execution_count": 27,
   "id": "110af1ff",
   "metadata": {},
   "outputs": [],
   "source": [
    "email_message = email.message_from_string(raw_email_string)"
   ]
  },
  {
   "cell_type": "code",
   "execution_count": 28,
   "id": "664ae6d5",
   "metadata": {},
   "outputs": [
    {
     "name": "stdout",
     "output_type": "stream",
     "text": [
      "b'This is my message body from my python script\\r\\n'\n"
     ]
    }
   ],
   "source": [
    "for part in email_message.walk():\n",
    "    if part.get_content_type() == 'text/plain':\n",
    "        body = part.get_payload(decode=True)\n",
    "        print(body)"
   ]
  },
  {
   "cell_type": "code",
   "execution_count": 29,
   "id": "63f3f2b7",
   "metadata": {},
   "outputs": [],
   "source": [
    "#for part in email_message.walk():\n",
    "#    if part.get_content_type() == 'text/html':\n",
    "#        body = part.get_payload(decode=True)\n",
    "#        print(body)\n",
    "\n",
    "# for getting a link\n",
    "\n",
    "    "
   ]
  },
  {
   "cell_type": "code",
   "execution_count": null,
   "id": "9eac94c9",
   "metadata": {},
   "outputs": [],
   "source": []
  }
 ],
 "metadata": {
  "kernelspec": {
   "display_name": "Python 3 (ipykernel)",
   "language": "python",
   "name": "python3"
  },
  "language_info": {
   "codemirror_mode": {
    "name": "ipython",
    "version": 3
   },
   "file_extension": ".py",
   "mimetype": "text/x-python",
   "name": "python",
   "nbconvert_exporter": "python",
   "pygments_lexer": "ipython3",
   "version": "3.9.7"
  }
 },
 "nbformat": 4,
 "nbformat_minor": 5
}
