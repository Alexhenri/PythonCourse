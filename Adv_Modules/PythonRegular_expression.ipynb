{
 "cells": [
  {
   "cell_type": "code",
   "execution_count": 12,
   "id": "698684d3",
   "metadata": {},
   "outputs": [],
   "source": [
    "text = \"O telefone do jogador de futebol é 55+ 21 992649281. Ligue para ele.\""
   ]
  },
  {
   "cell_type": "code",
   "execution_count": 3,
   "id": "7fbb30c8",
   "metadata": {},
   "outputs": [
    {
     "data": {
      "text/plain": [
       "True"
      ]
     },
     "execution_count": 3,
     "metadata": {},
     "output_type": "execute_result"
    }
   ],
   "source": [
    "'telefone' in text"
   ]
  },
  {
   "cell_type": "code",
   "execution_count": 4,
   "id": "6e4bc1fc",
   "metadata": {},
   "outputs": [],
   "source": [
    "import re"
   ]
  },
  {
   "cell_type": "code",
   "execution_count": 5,
   "id": "7a94753c",
   "metadata": {},
   "outputs": [],
   "source": [
    "pattern = 'telefone'"
   ]
  },
  {
   "cell_type": "code",
   "execution_count": 6,
   "id": "3e810e25",
   "metadata": {},
   "outputs": [
    {
     "data": {
      "text/plain": [
       "<re.Match object; span=(2, 10), match='telefone'>"
      ]
     },
     "execution_count": 6,
     "metadata": {},
     "output_type": "execute_result"
    }
   ],
   "source": [
    "re.search(pattern, text)"
   ]
  },
  {
   "cell_type": "code",
   "execution_count": 7,
   "id": "4262bbba",
   "metadata": {},
   "outputs": [],
   "source": [
    "re.search('TESTE', text)"
   ]
  },
  {
   "cell_type": "code",
   "execution_count": 9,
   "id": "b4c5e895",
   "metadata": {},
   "outputs": [],
   "source": [
    "macth = re.search(pattern, text)"
   ]
  },
  {
   "cell_type": "markdown",
   "id": "6611814a",
   "metadata": {},
   "source": []
  },
  {
   "cell_type": "code",
   "execution_count": 10,
   "id": "7b6d3122",
   "metadata": {},
   "outputs": [
    {
     "data": {
      "text/plain": [
       "(2, 10)"
      ]
     },
     "execution_count": 10,
     "metadata": {},
     "output_type": "execute_result"
    }
   ],
   "source": [
    "macth.span()"
   ]
  },
  {
   "cell_type": "code",
   "execution_count": 13,
   "id": "45319312",
   "metadata": {},
   "outputs": [],
   "source": [
    "text2 = 'Este texto contem telefone uma vez, telefone duas vezes.'"
   ]
  },
  {
   "cell_type": "code",
   "execution_count": 14,
   "id": "56078822",
   "metadata": {},
   "outputs": [],
   "source": [
    "match = re.search(pattern, text2)"
   ]
  },
  {
   "cell_type": "code",
   "execution_count": 15,
   "id": "16d97400",
   "metadata": {},
   "outputs": [
    {
     "data": {
      "text/plain": [
       "(18, 26)"
      ]
     },
     "execution_count": 15,
     "metadata": {},
     "output_type": "execute_result"
    }
   ],
   "source": [
    "match.span()"
   ]
  },
  {
   "cell_type": "code",
   "execution_count": 22,
   "id": "f58a67d3",
   "metadata": {},
   "outputs": [],
   "source": [
    "# just get the first match in the search.\n",
    "# to get all use re.findall()\n",
    "\n",
    "matches_str = re.findall(pattern,text2)"
   ]
  },
  {
   "cell_type": "code",
   "execution_count": 23,
   "id": "541a2006",
   "metadata": {},
   "outputs": [
    {
     "data": {
      "text/plain": [
       "2"
      ]
     },
     "execution_count": 23,
     "metadata": {},
     "output_type": "execute_result"
    }
   ],
   "source": [
    "len(matches_str)"
   ]
  },
  {
   "cell_type": "code",
   "execution_count": 24,
   "id": "bef67e6c",
   "metadata": {},
   "outputs": [
    {
     "name": "stdout",
     "output_type": "stream",
     "text": [
      "['telefone', 'telefone']\n"
     ]
    }
   ],
   "source": [
    "print(matches_str)"
   ]
  },
  {
   "cell_type": "code",
   "execution_count": 25,
   "id": "689eaa2b",
   "metadata": {},
   "outputs": [
    {
     "data": {
      "text/plain": [
       "str"
      ]
     },
     "execution_count": 25,
     "metadata": {},
     "output_type": "execute_result"
    }
   ],
   "source": [
    "type(matches_str[0])"
   ]
  },
  {
   "cell_type": "code",
   "execution_count": 36,
   "id": "ec3cc20f",
   "metadata": {},
   "outputs": [],
   "source": [
    "matches = re.finditer(pattern, text2)"
   ]
  },
  {
   "cell_type": "code",
   "execution_count": 27,
   "id": "5f24d86c",
   "metadata": {},
   "outputs": [
    {
     "data": {
      "text/plain": [
       "callable_iterator"
      ]
     },
     "execution_count": 27,
     "metadata": {},
     "output_type": "execute_result"
    }
   ],
   "source": [
    "type(matches)"
   ]
  },
  {
   "cell_type": "code",
   "execution_count": 28,
   "id": "15174173",
   "metadata": {},
   "outputs": [
    {
     "ename": "TypeError",
     "evalue": "'callable_iterator' object is not subscriptable",
     "output_type": "error",
     "traceback": [
      "\u001b[0;31m---------------------------------------------------------------------------\u001b[0m",
      "\u001b[0;31mTypeError\u001b[0m                                 Traceback (most recent call last)",
      "\u001b[0;32m/tmp/ipykernel_5269/1134955487.py\u001b[0m in \u001b[0;36m<module>\u001b[0;34m\u001b[0m\n\u001b[0;32m----> 1\u001b[0;31m \u001b[0mtype\u001b[0m\u001b[0;34m(\u001b[0m\u001b[0mmatches\u001b[0m\u001b[0;34m[\u001b[0m\u001b[0;36m0\u001b[0m\u001b[0;34m]\u001b[0m\u001b[0;34m)\u001b[0m\u001b[0;34m\u001b[0m\u001b[0;34m\u001b[0m\u001b[0m\n\u001b[0m",
      "\u001b[0;31mTypeError\u001b[0m: 'callable_iterator' object is not subscriptable"
     ]
    }
   ],
   "source": [
    "type(matches[0])"
   ]
  },
  {
   "cell_type": "code",
   "execution_count": 37,
   "id": "4536fc44",
   "metadata": {},
   "outputs": [
    {
     "name": "stdout",
     "output_type": "stream",
     "text": [
      "1 telefone (18, 26) \n",
      "2 telefone (36, 44) \n"
     ]
    }
   ],
   "source": [
    "count = 1\n",
    "for obj in matches:\n",
    "    print(\"{} {} {} \".format(count, obj.group(), obj.span()))\n",
    "    count += 1"
   ]
  },
  {
   "cell_type": "code",
   "execution_count": 38,
   "id": "8ee7dd17",
   "metadata": {},
   "outputs": [],
   "source": [
    "text = \"O telefone do jogador de futebol é 55+ 21 992649281. Ligue para ele.\""
   ]
  },
  {
   "cell_type": "code",
   "execution_count": 50,
   "id": "335f721f",
   "metadata": {},
   "outputs": [],
   "source": [
    "phone_pattern = '\\d\\d\\W\\s\\d\\d\\s\\d\\d\\d\\d\\d\\d\\d\\d\\d'"
   ]
  },
  {
   "cell_type": "code",
   "execution_count": 51,
   "id": "cf5cb4e0",
   "metadata": {},
   "outputs": [],
   "source": [
    "phone = re.search(phone_pattern,text)"
   ]
  },
  {
   "cell_type": "code",
   "execution_count": 49,
   "id": "613e8faf",
   "metadata": {},
   "outputs": [
    {
     "data": {
      "text/plain": [
       "NoneType"
      ]
     },
     "execution_count": 49,
     "metadata": {},
     "output_type": "execute_result"
    }
   ],
   "source": [
    "type(phone)"
   ]
  },
  {
   "cell_type": "code",
   "execution_count": 46,
   "id": "2c2b1245",
   "metadata": {},
   "outputs": [
    {
     "data": {
      "text/plain": [
       "'55+ 21 992649281'"
      ]
     },
     "execution_count": 46,
     "metadata": {},
     "output_type": "execute_result"
    }
   ],
   "source": [
    "phone.group()"
   ]
  },
  {
   "cell_type": "code",
   "execution_count": 55,
   "id": "eaf4e6c5",
   "metadata": {},
   "outputs": [],
   "source": [
    "phone_pattern = '\\d{2}\\W\\s\\d{2}\\s\\d{9}'"
   ]
  },
  {
   "cell_type": "code",
   "execution_count": 56,
   "id": "2042c729",
   "metadata": {},
   "outputs": [],
   "source": [
    "phone = re.search(phone_pattern,text)"
   ]
  },
  {
   "cell_type": "code",
   "execution_count": 57,
   "id": "ce86bbb5",
   "metadata": {},
   "outputs": [
    {
     "data": {
      "text/plain": [
       "re.Match"
      ]
     },
     "execution_count": 57,
     "metadata": {},
     "output_type": "execute_result"
    }
   ],
   "source": [
    "type(phone)"
   ]
  },
  {
   "cell_type": "code",
   "execution_count": 58,
   "id": "a99942ea",
   "metadata": {},
   "outputs": [
    {
     "data": {
      "text/plain": [
       "'55+ 21 992649281'"
      ]
     },
     "execution_count": 58,
     "metadata": {},
     "output_type": "execute_result"
    }
   ],
   "source": [
    "phone.group()"
   ]
  },
  {
   "cell_type": "code",
   "execution_count": 59,
   "id": "2187b5f6",
   "metadata": {},
   "outputs": [],
   "source": [
    "texto = 'abc-1111-joao'"
   ]
  },
  {
   "cell_type": "code",
   "execution_count": 61,
   "id": "6483dc19",
   "metadata": {},
   "outputs": [],
   "source": [
    "padrao = re.compile(r'(\\w{3})-(\\d{4})-(\\w{3,})')"
   ]
  },
  {
   "cell_type": "code",
   "execution_count": 62,
   "id": "65d622e8",
   "metadata": {},
   "outputs": [],
   "source": [
    "result = re.search(padrao, texto)"
   ]
  },
  {
   "cell_type": "code",
   "execution_count": 63,
   "id": "da429a56",
   "metadata": {},
   "outputs": [
    {
     "data": {
      "text/plain": [
       "'abc'"
      ]
     },
     "execution_count": 63,
     "metadata": {},
     "output_type": "execute_result"
    }
   ],
   "source": [
    "result.group(1)"
   ]
  },
  {
   "cell_type": "code",
   "execution_count": 64,
   "id": "cc21ef67",
   "metadata": {},
   "outputs": [
    {
     "data": {
      "text/plain": [
       "'1111'"
      ]
     },
     "execution_count": 64,
     "metadata": {},
     "output_type": "execute_result"
    }
   ],
   "source": [
    "result.group(2)"
   ]
  },
  {
   "cell_type": "code",
   "execution_count": 65,
   "id": "0f7a54fd",
   "metadata": {},
   "outputs": [
    {
     "data": {
      "text/plain": [
       "'joao'"
      ]
     },
     "execution_count": 65,
     "metadata": {},
     "output_type": "execute_result"
    }
   ],
   "source": [
    "result.group(3)"
   ]
  },
  {
   "cell_type": "code",
   "execution_count": 2,
   "id": "87cbec8b",
   "metadata": {},
   "outputs": [],
   "source": [
    "content = 'dasd123-124-555adasdsada'"
   ]
  },
  {
   "cell_type": "code",
   "execution_count": 34,
   "id": "6b45627f",
   "metadata": {},
   "outputs": [],
   "source": [
    "def find_phone_re(content):\n",
    "    phone_pattern = re.compile(r'\\d{3}-\\d{3}-\\d{3}')\n",
    "    print(content)\n",
    "    phone = re.findall(phone_pattern, content)\n",
    "    return phone"
   ]
  },
  {
   "cell_type": "code",
   "execution_count": 19,
   "id": "1151b5d8",
   "metadata": {},
   "outputs": [
    {
     "name": "stdout",
     "output_type": "stream",
     "text": [
      "dasd123-124-555adasdsada\n"
     ]
    },
    {
     "data": {
      "text/plain": [
       "<re.Match object; span=(4, 15), match='123-124-555'>"
      ]
     },
     "execution_count": 19,
     "metadata": {},
     "output_type": "execute_result"
    }
   ],
   "source": [
    "find_phone_re(content)"
   ]
  },
  {
   "cell_type": "code",
   "execution_count": 35,
   "id": "7ea8a856",
   "metadata": {},
   "outputs": [
    {
     "name": "stdout",
     "output_type": "stream",
     "text": [
      "sa123-134-1231231da123-145-123sdsadas\n"
     ]
    }
   ],
   "source": [
    "phone = find_phone_re('sa123-134-1231231da123-145-123sdsadas')"
   ]
  },
  {
   "cell_type": "code",
   "execution_count": 36,
   "id": "bba17772",
   "metadata": {},
   "outputs": [
    {
     "name": "stdout",
     "output_type": "stream",
     "text": [
      "['123-134-123', '123-145-123']\n"
     ]
    }
   ],
   "source": [
    "print(phone)"
   ]
  },
  {
   "cell_type": "code",
   "execution_count": 28,
   "id": "d8fc0f8f",
   "metadata": {},
   "outputs": [
    {
     "ename": "TypeError",
     "evalue": "match() missing 1 required positional argument: 'string'",
     "output_type": "error",
     "traceback": [
      "\u001b[0;31m---------------------------------------------------------------------------\u001b[0m",
      "\u001b[0;31mTypeError\u001b[0m                                 Traceback (most recent call last)",
      "\u001b[0;32m/var/folders/cg/wtnqf9vx0gxg1n7vtpbf3_400000gn/T/ipykernel_10014/568524340.py\u001b[0m in \u001b[0;36m<module>\u001b[0;34m\u001b[0m\n\u001b[0;32m----> 1\u001b[0;31m \u001b[0mre\u001b[0m\u001b[0;34m.\u001b[0m\u001b[0mmatch\u001b[0m\u001b[0;34m(\u001b[0m\u001b[0mphone\u001b[0m\u001b[0;34m)\u001b[0m\u001b[0;34m\u001b[0m\u001b[0;34m\u001b[0m\u001b[0m\n\u001b[0m",
      "\u001b[0;31mTypeError\u001b[0m: match() missing 1 required positional argument: 'string'"
     ]
    }
   ],
   "source": [
    "re.match(phone)"
   ]
  },
  {
   "cell_type": "code",
   "execution_count": 37,
   "id": "379e921b",
   "metadata": {},
   "outputs": [
    {
     "ename": "AttributeError",
     "evalue": "'list' object has no attribute 'group'",
     "output_type": "error",
     "traceback": [
      "\u001b[0;31m---------------------------------------------------------------------------\u001b[0m",
      "\u001b[0;31mAttributeError\u001b[0m                            Traceback (most recent call last)",
      "\u001b[0;32m/var/folders/cg/wtnqf9vx0gxg1n7vtpbf3_400000gn/T/ipykernel_10014/2541492333.py\u001b[0m in \u001b[0;36m<module>\u001b[0;34m\u001b[0m\n\u001b[0;32m----> 1\u001b[0;31m \u001b[0mphone\u001b[0m\u001b[0;34m.\u001b[0m\u001b[0mgroup\u001b[0m\u001b[0;34m(\u001b[0m\u001b[0;34m)\u001b[0m\u001b[0;34m\u001b[0m\u001b[0;34m\u001b[0m\u001b[0m\n\u001b[0m",
      "\u001b[0;31mAttributeError\u001b[0m: 'list' object has no attribute 'group'"
     ]
    }
   ],
   "source": [
    "phon"
   ]
  },
  {
   "cell_type": "code",
   "execution_count": null,
   "id": "cb42775a",
   "metadata": {},
   "outputs": [],
   "source": []
  }
 ],
 "metadata": {
  "kernelspec": {
   "display_name": "Python 3 (ipykernel)",
   "language": "python",
   "name": "python3"
  },
  "language_info": {
   "codemirror_mode": {
    "name": "ipython",
    "version": 3
   },
   "file_extension": ".py",
   "mimetype": "text/x-python",
   "name": "python",
   "nbconvert_exporter": "python",
   "pygments_lexer": "ipython3",
   "version": "3.9.7"
  }
 },
 "nbformat": 4,
 "nbformat_minor": 5
}
