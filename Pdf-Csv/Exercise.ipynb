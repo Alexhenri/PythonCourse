{
 "cells": [
  {
   "cell_type": "markdown",
   "id": "c1aa16e8",
   "metadata": {},
   "source": [
    "Task One\n",
    "\n",
    "\n"
   ]
  },
  {
   "cell_type": "code",
   "execution_count": 2,
   "id": "d97ffd5a",
   "metadata": {},
   "outputs": [],
   "source": [
    "import csv"
   ]
  },
  {
   "cell_type": "code",
   "execution_count": 3,
   "id": "e7749a98",
   "metadata": {},
   "outputs": [],
   "source": [
    "csv_file = open('find_the_link.csv')"
   ]
  },
  {
   "cell_type": "code",
   "execution_count": 4,
   "id": "37a6396d",
   "metadata": {},
   "outputs": [],
   "source": [
    "csv_reader = csv.reader(csv_file)"
   ]
  },
  {
   "cell_type": "code",
   "execution_count": 7,
   "id": "70683a07",
   "metadata": {},
   "outputs": [],
   "source": [
    "csv_list = list(csv_reader)"
   ]
  },
  {
   "cell_type": "code",
   "execution_count": 15,
   "id": "35ddd319",
   "metadata": {},
   "outputs": [
    {
     "name": "stdout",
     "output_type": "stream",
     "text": [
      "https://drive.google.com/open?id=1G6SEgg018UB4_4xsAJJ5TdzrhmXipr4Q\n"
     ]
    }
   ],
   "source": [
    "link = ''\n",
    "a = 0\n",
    "for content in csv_list:\n",
    "    link += content[a]\n",
    "    a+=1\n",
    "print(link)\n",
    "    "
   ]
  },
  {
   "cell_type": "markdown",
   "id": "156cf912",
   "metadata": {},
   "source": [
    "Task Two"
   ]
  },
  {
   "cell_type": "code",
   "execution_count": 2,
   "id": "7c2ec4eb",
   "metadata": {},
   "outputs": [],
   "source": [
    "import re\n",
    "import PyPDF2"
   ]
  },
  {
   "cell_type": "code",
   "execution_count": 5,
   "id": "7fd7d36e",
   "metadata": {},
   "outputs": [],
   "source": [
    "pdf_file = open('Find_the_Phone_Number.pdf', 'rb')"
   ]
  },
  {
   "cell_type": "code",
   "execution_count": 6,
   "id": "9ffe3bd9",
   "metadata": {},
   "outputs": [],
   "source": [
    "pdf = PyPDF2.PdfFileReader(pdf_file)"
   ]
  },
  {
   "cell_type": "code",
   "execution_count": 7,
   "id": "6a2d74f1",
   "metadata": {},
   "outputs": [
    {
     "data": {
      "text/plain": [
       "17"
      ]
     },
     "execution_count": 7,
     "metadata": {},
     "output_type": "execute_result"
    }
   ],
   "source": [
    "pdf.numPages"
   ]
  },
  {
   "cell_type": "code",
   "execution_count": 8,
   "id": "3aabfd33",
   "metadata": {},
   "outputs": [
    {
     "data": {
      "text/plain": [
       "<PyPDF2._reader.PdfFileReader at 0x7f9b1ee0a490>"
      ]
     },
     "execution_count": 8,
     "metadata": {},
     "output_type": "execute_result"
    }
   ],
   "source": [
    "pdf"
   ]
  },
  {
   "cell_type": "code",
   "execution_count": 17,
   "id": "afc55ebf",
   "metadata": {},
   "outputs": [],
   "source": [
    "pattern = r'\\d{3}.\\d{3}.\\d{4}'"
   ]
  },
  {
   "cell_type": "code",
   "execution_count": 18,
   "id": "e0f8bff5",
   "metadata": {},
   "outputs": [],
   "source": [
    "all_text = ''\n",
    "for n in range(pdf.numPages):\n",
    "    page = pdf.getPage(n)\n",
    "    page_text = page.extractText()\n",
    "    \n",
    "    all_text = all_text+' '+page_text"
   ]
  },
  {
   "cell_type": "code",
   "execution_count": 19,
   "id": "f82a6c12",
   "metadata": {},
   "outputs": [
    {
     "name": "stdout",
     "output_type": "stream",
     "text": [
      "<re.Match object; span=(43908, 43920), match='505.503.4455'>\n"
     ]
    }
   ],
   "source": [
    "for match in re.finditer(pattern, all_text):\n",
    "    print(match)"
   ]
  },
  {
   "cell_type": "code",
   "execution_count": 21,
   "id": "9a7ae55d",
   "metadata": {},
   "outputs": [],
   "source": [
    "phone = re.search(pattern, all_text)"
   ]
  },
  {
   "cell_type": "code",
   "execution_count": 29,
   "id": "d91c6064",
   "metadata": {},
   "outputs": [
    {
     "data": {
      "text/plain": [
       "<re.Match object; span=(43908, 43920), match='505.503.4455'>"
      ]
     },
     "execution_count": 29,
     "metadata": {},
     "output_type": "execute_result"
    }
   ],
   "source": [
    "phone"
   ]
  },
  {
   "cell_type": "code",
   "execution_count": 32,
   "id": "97b34643",
   "metadata": {},
   "outputs": [],
   "source": [
    "phone = re.findall(pattern, all_text)"
   ]
  },
  {
   "cell_type": "code",
   "execution_count": 33,
   "id": "7ebe3c75",
   "metadata": {},
   "outputs": [
    {
     "data": {
      "text/plain": [
       "['505.503.4455']"
      ]
     },
     "execution_count": 33,
     "metadata": {},
     "output_type": "execute_result"
    }
   ],
   "source": [
    "phone"
   ]
  },
  {
   "cell_type": "code",
   "execution_count": null,
   "id": "989f74ef",
   "metadata": {},
   "outputs": [],
   "source": []
  }
 ],
 "metadata": {
  "kernelspec": {
   "display_name": "Python 3 (ipykernel)",
   "language": "python",
   "name": "python3"
  },
  "language_info": {
   "codemirror_mode": {
    "name": "ipython",
    "version": 3
   },
   "file_extension": ".py",
   "mimetype": "text/x-python",
   "name": "python",
   "nbconvert_exporter": "python",
   "pygments_lexer": "ipython3",
   "version": "3.9.7"
  }
 },
 "nbformat": 4,
 "nbformat_minor": 5
}
