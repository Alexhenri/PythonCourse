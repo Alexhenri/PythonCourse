{
 "cells": [
  {
   "cell_type": "code",
   "execution_count": 1,
   "id": "57c5d361",
   "metadata": {},
   "outputs": [
    {
     "name": "stdout",
     "output_type": "stream",
     "text": [
      "Oie raissa\n"
     ]
    }
   ],
   "source": [
    "print('Oie raissa')\n"
   ]
  },
  {
   "cell_type": "code",
   "execution_count": 2,
   "id": "14ae5cf1",
   "metadata": {},
   "outputs": [
    {
     "data": {
      "text/plain": [
       "3"
      ]
     },
     "execution_count": 2,
     "metadata": {},
     "output_type": "execute_result"
    }
   ],
   "source": [
    "1 + 2"
   ]
  },
  {
   "cell_type": "code",
   "execution_count": 17,
   "id": "3b165dd7",
   "metadata": {},
   "outputs": [],
   "source": [
    "minhavariavel = 3\n"
   ]
  },
  {
   "cell_type": "code",
   "execution_count": 14,
   "id": "8ac934e9",
   "metadata": {},
   "outputs": [
    {
     "name": "stdout",
     "output_type": "stream",
     "text": [
      "5\n"
     ]
    }
   ],
   "source": [
    "print(minhavariavel)"
   ]
  },
  {
   "cell_type": "code",
   "execution_count": 11,
   "id": "4cb4d9a7",
   "metadata": {},
   "outputs": [
    {
     "name": "stdout",
     "output_type": "stream",
     "text": [
      "Nao é maior\n"
     ]
    }
   ],
   "source": [
    "if minhavariavel > 0:\n",
    "    print('Minha variavel é maior que O')\n",
    "else:\n",
    "    print('Nao é maior')"
   ]
  },
  {
   "cell_type": "code",
   "execution_count": 23,
   "id": "3516ad3d",
   "metadata": {},
   "outputs": [
    {
     "name": "stdout",
     "output_type": "stream",
     "text": [
      "n agora é 0\n",
      "Agora n é par\n",
      "n agora é 1\n",
      "Agora n é impar\n",
      "n agora é 2\n",
      "Agora n é par\n",
      "n agora é 3\n",
      "Agora n é impar\n"
     ]
    }
   ],
   "source": [
    "for n in range(0,minhavariavel + 1):\n",
    "    print(f'n agora é {n}')\n",
    "    if n % 2 == 0:\n",
    "        print('Agora n é par')\n",
    "    else:\n",
    "        print('Agora n é impar')\n",
    "\n"
   ]
  },
  {
   "cell_type": "code",
   "execution_count": 20,
   "id": "b87426ff",
   "metadata": {},
   "outputs": [],
   "source": [
    "alex = True"
   ]
  },
  {
   "cell_type": "code",
   "execution_count": 24,
   "id": "5cf530ba",
   "metadata": {},
   "outputs": [
    {
     "name": "stdout",
     "output_type": "stream",
     "text": [
      "Alex é verdadeiro? (Sim/Nao - S/N)S\n",
      "Alex é verdadeiro? (Sim/Nao - S/N)S\n",
      "Alex é verdadeiro? (Sim/Nao - S/N)Sim\n",
      "Alex é verdadeiro? (Sim/Nao - S/N)Otario\n",
      "Responde direito\n",
      "Alex é verdadeiro? (Sim/Nao - S/N)Nao\n"
     ]
    }
   ],
   "source": [
    "while alex == True:\n",
    "    pergunta = input('Alex é verdadeiro? (Sim/Nao - S/N)')\n",
    "    if pergunta == 'Sim' or pergunta == 'S':\n",
    "        pass\n",
    "    elif pergunta == 'Nao' or pergunta == 'N':\n",
    "        alex = False\n",
    "    else:\n",
    "        print('Responde direito')\n",
    "        "
   ]
  },
  {
   "cell_type": "code",
   "execution_count": 25,
   "id": "d1551ef1",
   "metadata": {},
   "outputs": [],
   "source": [
    "n = 0"
   ]
  },
  {
   "cell_type": "code",
   "execution_count": 26,
   "id": "dbd43272",
   "metadata": {},
   "outputs": [
    {
     "name": "stdout",
     "output_type": "stream",
     "text": [
      "Raissa Fede\n",
      "Raissa Fede\n",
      "Raissa Fede\n",
      "Raissa Fede\n",
      "Raissa Fede\n",
      "Raissa Fede\n",
      "Raissa Fede\n",
      "Raissa Fede\n",
      "Raissa Fede\n",
      "Raissa Fede\n"
     ]
    }
   ],
   "source": [
    "while n < 10:\n",
    "    print('Raissa Fede')\n",
    "    n = n + 1"
   ]
  },
  {
   "cell_type": "code",
   "execution_count": null,
   "id": "a6982c7e",
   "metadata": {},
   "outputs": [],
   "source": []
  }
 ],
 "metadata": {
  "kernelspec": {
   "display_name": "Python 3 (ipykernel)",
   "language": "python",
   "name": "python3"
  },
  "language_info": {
   "codemirror_mode": {
    "name": "ipython",
    "version": 3
   },
   "file_extension": ".py",
   "mimetype": "text/x-python",
   "name": "python",
   "nbconvert_exporter": "python",
   "pygments_lexer": "ipython3",
   "version": "3.9.7"
  }
 },
 "nbformat": 4,
 "nbformat_minor": 5
}
