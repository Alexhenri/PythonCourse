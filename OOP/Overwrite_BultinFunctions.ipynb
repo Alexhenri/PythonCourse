{
 "cells": [
  {
   "cell_type": "code",
   "execution_count": 1,
   "id": "fa2dad82",
   "metadata": {},
   "outputs": [],
   "source": [
    "class Book():\n",
    "    \n",
    "    def __init__(self, title, author, pages):\n",
    "        \n",
    "        self.title  = title\n",
    "        self.author = author\n",
    "        self.pages  = pages\n",
    "        "
   ]
  },
  {
   "cell_type": "code",
   "execution_count": 2,
   "id": "e04d39b7",
   "metadata": {},
   "outputs": [],
   "source": [
    "hp = Book('Harry Potter', 'JK. Rowling', 294)"
   ]
  },
  {
   "cell_type": "code",
   "execution_count": 3,
   "id": "8d81715c",
   "metadata": {},
   "outputs": [
    {
     "data": {
      "text/plain": [
       "<__main__.Book at 0x7f270d8eb4f0>"
      ]
     },
     "execution_count": 3,
     "metadata": {},
     "output_type": "execute_result"
    }
   ],
   "source": [
    "hp"
   ]
  },
  {
   "cell_type": "code",
   "execution_count": 5,
   "id": "f272cff6",
   "metadata": {},
   "outputs": [],
   "source": [
    "# hp return the same that str(hp)\n",
    "# example\n",
    "mylist = [1,2,3]"
   ]
  },
  {
   "cell_type": "code",
   "execution_count": 6,
   "id": "2e8cd2cf",
   "metadata": {},
   "outputs": [
    {
     "data": {
      "text/plain": [
       "[1, 2, 3]"
      ]
     },
     "execution_count": 6,
     "metadata": {},
     "output_type": "execute_result"
    }
   ],
   "source": [
    "mylist"
   ]
  },
  {
   "cell_type": "code",
   "execution_count": 7,
   "id": "58c52ecc",
   "metadata": {},
   "outputs": [
    {
     "name": "stdout",
     "output_type": "stream",
     "text": [
      "<__main__.Book object at 0x7f270d8eb4f0>\n",
      "[1, 2, 3]\n"
     ]
    }
   ],
   "source": [
    "print(hp)\n",
    "print(mylist)"
   ]
  },
  {
   "cell_type": "code",
   "execution_count": 8,
   "id": "37e1b09f",
   "metadata": {},
   "outputs": [
    {
     "name": "stdout",
     "output_type": "stream",
     "text": [
      "<__main__.Book object at 0x7f270d8eb4f0>\n",
      "[1, 2, 3]\n"
     ]
    }
   ],
   "source": [
    "print(str(hp))\n",
    "print(str(mylist))"
   ]
  },
  {
   "cell_type": "code",
   "execution_count": 10,
   "id": "f01bd213",
   "metadata": {},
   "outputs": [],
   "source": [
    "# so if i want to my class Book return something when i call the function print()\n",
    "# i need to do the following\n",
    "\n",
    "class Book():\n",
    "    \n",
    "    def __init__(self, title, author, pages):\n",
    "        \n",
    "        self.title  = title\n",
    "        self.author = author\n",
    "        self.pages  = pages\n",
    "        \n",
    "    def __str__(self):\n",
    "        return ('{} by {}'.format(self.title, self.author))"
   ]
  },
  {
   "cell_type": "code",
   "execution_count": 11,
   "id": "cff49268",
   "metadata": {},
   "outputs": [],
   "source": [
    "hp = Book('Harry Potter', 'JK. Rowling', 294)"
   ]
  },
  {
   "cell_type": "code",
   "execution_count": 12,
   "id": "3db23fe6",
   "metadata": {},
   "outputs": [
    {
     "data": {
      "text/plain": [
       "<__main__.Book at 0x7f270d242be0>"
      ]
     },
     "execution_count": 12,
     "metadata": {},
     "output_type": "execute_result"
    }
   ],
   "source": [
    "hp"
   ]
  },
  {
   "cell_type": "code",
   "execution_count": 13,
   "id": "1d751b74",
   "metadata": {},
   "outputs": [
    {
     "name": "stdout",
     "output_type": "stream",
     "text": [
      "Harry Potter by JK. Rowling\n"
     ]
    }
   ],
   "source": [
    "print(hp)"
   ]
  },
  {
   "cell_type": "code",
   "execution_count": 16,
   "id": "b95ed4cf",
   "metadata": {},
   "outputs": [
    {
     "name": "stdout",
     "output_type": "stream",
     "text": [
      "3\n"
     ]
    },
    {
     "ename": "TypeError",
     "evalue": "object of type 'Book' has no len()",
     "output_type": "error",
     "traceback": [
      "\u001b[0;31m---------------------------------------------------------------------------\u001b[0m",
      "\u001b[0;31mTypeError\u001b[0m                                 Traceback (most recent call last)",
      "\u001b[0;32m/tmp/ipykernel_20390/2470217292.py\u001b[0m in \u001b[0;36m<module>\u001b[0;34m\u001b[0m\n\u001b[1;32m      2\u001b[0m \u001b[0;34m\u001b[0m\u001b[0m\n\u001b[1;32m      3\u001b[0m \u001b[0mprint\u001b[0m\u001b[0;34m(\u001b[0m\u001b[0mlen\u001b[0m\u001b[0;34m(\u001b[0m\u001b[0mmylist\u001b[0m\u001b[0;34m)\u001b[0m\u001b[0;34m)\u001b[0m\u001b[0;34m\u001b[0m\u001b[0;34m\u001b[0m\u001b[0m\n\u001b[0;32m----> 4\u001b[0;31m \u001b[0mprint\u001b[0m\u001b[0;34m(\u001b[0m\u001b[0mlen\u001b[0m\u001b[0;34m(\u001b[0m\u001b[0mhp\u001b[0m\u001b[0;34m)\u001b[0m\u001b[0;34m)\u001b[0m\u001b[0;34m\u001b[0m\u001b[0;34m\u001b[0m\u001b[0m\n\u001b[0m",
      "\u001b[0;31mTypeError\u001b[0m: object of type 'Book' has no len()"
     ]
    }
   ],
   "source": [
    "# i can do the same for len() for example\n",
    "\n",
    "print(len(mylist))\n",
    "print(len(hp))"
   ]
  },
  {
   "cell_type": "code",
   "execution_count": 26,
   "id": "7ef2a525",
   "metadata": {},
   "outputs": [],
   "source": [
    "class Book():\n",
    "    \n",
    "    def __init__(self, title, author, pages):\n",
    "        \n",
    "        self.title  = title\n",
    "        self.author = author\n",
    "        self.pages  = pages\n",
    "        \n",
    "    def __str__(self):\n",
    "        return ('{} by {}'.format(self.title, self.author))\n",
    "    \n",
    "    def __len__(self):\n",
    "        return self.pages\n",
    "    \n",
    "    def __del__(self):\n",
    "        print('The books has been deleted')"
   ]
  },
  {
   "cell_type": "code",
   "execution_count": 27,
   "id": "65cee4c8",
   "metadata": {},
   "outputs": [],
   "source": [
    "hp = Book('Harry Potter', 'JK. Rowling', 294)"
   ]
  },
  {
   "cell_type": "code",
   "execution_count": 22,
   "id": "21260fbb",
   "metadata": {},
   "outputs": [
    {
     "data": {
      "text/plain": [
       "294"
      ]
     },
     "execution_count": 22,
     "metadata": {},
     "output_type": "execute_result"
    }
   ],
   "source": [
    "len(hp)"
   ]
  },
  {
   "cell_type": "code",
   "execution_count": 28,
   "id": "ff9911ae",
   "metadata": {},
   "outputs": [
    {
     "name": "stdout",
     "output_type": "stream",
     "text": [
      "The books has been deleted\n"
     ]
    }
   ],
   "source": [
    "# i can do this for all the python functions\n",
    "# example del, to print something when i delete the object\n",
    "\n",
    "del(hp)"
   ]
  },
  {
   "cell_type": "code",
   "execution_count": 29,
   "id": "80b23204",
   "metadata": {},
   "outputs": [
    {
     "ename": "NameError",
     "evalue": "name 'hp' is not defined",
     "output_type": "error",
     "traceback": [
      "\u001b[0;31m---------------------------------------------------------------------------\u001b[0m",
      "\u001b[0;31mNameError\u001b[0m                                 Traceback (most recent call last)",
      "\u001b[0;32m/tmp/ipykernel_20390/3148251538.py\u001b[0m in \u001b[0;36m<module>\u001b[0;34m\u001b[0m\n\u001b[0;32m----> 1\u001b[0;31m \u001b[0mhp\u001b[0m\u001b[0;34m\u001b[0m\u001b[0;34m\u001b[0m\u001b[0m\n\u001b[0m",
      "\u001b[0;31mNameError\u001b[0m: name 'hp' is not defined"
     ]
    }
   ],
   "source": [
    "hp"
   ]
  },
  {
   "cell_type": "code",
   "execution_count": 3,
   "id": "9005bcf5",
   "metadata": {},
   "outputs": [],
   "source": [
    "class Card():\n",
    "\n",
    "    def __init__(self, value, suit):\n",
    "        self.value = value\n",
    "        self.suit = suit\n",
    "        if(suit == 'Heart' or suit == 'Diamond'):\n",
    "            self.color = 'red'\n",
    "        else:\n",
    "            self.color = 'black'\n",
    "\n",
    "    def __str__(self):\n",
    "        print(f'{self.value} of {self.suit}')\n",
    "\n",
    "    def show_card(self):\n",
    "        print(f'{self.value} of {self.suit}')"
   ]
  },
  {
   "cell_type": "code",
   "execution_count": 5,
   "id": "d4a897b7",
   "metadata": {},
   "outputs": [],
   "source": [
    "c = Card('Ace', 'Spade')"
   ]
  },
  {
   "cell_type": "code",
   "execution_count": 7,
   "id": "991fbf3f",
   "metadata": {},
   "outputs": [
    {
     "name": "stdout",
     "output_type": "stream",
     "text": [
      "Ace of Spade\n"
     ]
    },
    {
     "ename": "TypeError",
     "evalue": "__str__ returned non-string (type NoneType)",
     "output_type": "error",
     "traceback": [
      "\u001b[0;31m---------------------------------------------------------------------------\u001b[0m",
      "\u001b[0;31mTypeError\u001b[0m                                 Traceback (most recent call last)",
      "\u001b[0;32m/var/folders/cg/wtnqf9vx0gxg1n7vtpbf3_400000gn/T/ipykernel_49592/2743823995.py\u001b[0m in \u001b[0;36m<module>\u001b[0;34m\u001b[0m\n\u001b[0;32m----> 1\u001b[0;31m \u001b[0mprint\u001b[0m\u001b[0;34m(\u001b[0m\u001b[0mc\u001b[0m\u001b[0;34m)\u001b[0m\u001b[0;34m\u001b[0m\u001b[0;34m\u001b[0m\u001b[0m\n\u001b[0m",
      "\u001b[0;31mTypeError\u001b[0m: __str__ returned non-string (type NoneType)"
     ]
    }
   ],
   "source": [
    "print(c)"
   ]
  },
  {
   "cell_type": "code",
   "execution_count": null,
   "id": "8d09b29f",
   "metadata": {},
   "outputs": [],
   "source": []
  }
 ],
 "metadata": {
  "kernelspec": {
   "display_name": "Python 3 (ipykernel)",
   "language": "python",
   "name": "python3"
  },
  "language_info": {
   "codemirror_mode": {
    "name": "ipython",
    "version": 3
   },
   "file_extension": ".py",
   "mimetype": "text/x-python",
   "name": "python",
   "nbconvert_exporter": "python",
   "pygments_lexer": "ipython3",
   "version": "3.9.7"
  }
 },
 "nbformat": 4,
 "nbformat_minor": 5
}
