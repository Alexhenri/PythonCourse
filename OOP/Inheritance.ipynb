{
 "cells": [
  {
   "cell_type": "code",
   "execution_count": 106,
   "id": "3dc678bf",
   "metadata": {},
   "outputs": [],
   "source": [
    "class Animal():\n",
    "\n",
    "    def __init__(self, habitat ='', animal_class = '', eat_class = ''):\n",
    "        print('Animal Created')\n",
    "        self.habitat = habitat\n",
    "        self.animal_class = animal_class\n",
    "        self.eat_class = eat_class\n",
    "            \n",
    "    def who_am_i_animal(self):\n",
    "        print('I am an animal {}, {} and {}.'.format(self.habitat, self.animal_class, self.eat_class))\n",
    "    \n",
    "    def who_am_i(self):\n",
    "        print('I am an animal {}, {} and {}.'.format(self.habitat, self.animal_class, self.eat_class))"
   ]
  },
  {
   "cell_type": "code",
   "execution_count": 127,
   "id": "38dcf653",
   "metadata": {},
   "outputs": [],
   "source": [
    "class Cat(Animal):  \n",
    "    \n",
    "    #teste = Animal.__init__(Animal, habitat='Terrestrial', animal_class='Mammal', eat_class='Carnivore')  \n",
    "    \n",
    "    def __init__(self):\n",
    "        Animal.__init__(Animal, habitat='Terrestrial', animal_class='Mammal', eat_class='Carnivore')  \n",
    "        print('Cat created')              \n",
    "    def who_am_i(self):\n",
    "        self.who_am_i_animal()\n",
    "        print('I am a Cat!')\n",
    "\n",
    "        \n",
    "    "
   ]
  },
  {
   "cell_type": "code",
   "execution_count": 128,
   "id": "60920ac8",
   "metadata": {},
   "outputs": [
    {
     "name": "stdout",
     "output_type": "stream",
     "text": [
      "Animal Created\n",
      "Cat created\n"
     ]
    }
   ],
   "source": [
    "my_cat = Cat()"
   ]
  },
  {
   "cell_type": "code",
   "execution_count": 129,
   "id": "d29fef57",
   "metadata": {},
   "outputs": [
    {
     "name": "stdout",
     "output_type": "stream",
     "text": [
      "I am an animal Terrestrial, Mammal and Carnivore.\n",
      "I am a Cat!\n"
     ]
    }
   ],
   "source": [
    "my_cat.who_am_i()"
   ]
  },
  {
   "cell_type": "code",
   "execution_count": 130,
   "id": "31cb9957",
   "metadata": {},
   "outputs": [
    {
     "name": "stdout",
     "output_type": "stream",
     "text": [
      "Animal Created\n"
     ]
    }
   ],
   "source": [
    "my_animal = Animal(\"Aquatic\", \"Mammal\", \"Carnivore\")"
   ]
  },
  {
   "cell_type": "code",
   "execution_count": 131,
   "id": "53fadf65",
   "metadata": {},
   "outputs": [
    {
     "name": "stdout",
     "output_type": "stream",
     "text": [
      "I am an animal Aquatic, Mammal and Carnivore.\n"
     ]
    }
   ],
   "source": [
    "my_animal.who_am_i()"
   ]
  },
  {
   "cell_type": "code",
   "execution_count": null,
   "id": "f7a6b659",
   "metadata": {},
   "outputs": [],
   "source": []
  }
 ],
 "metadata": {
  "kernelspec": {
   "display_name": "Python 3 (ipykernel)",
   "language": "python",
   "name": "python3"
  },
  "language_info": {
   "codemirror_mode": {
    "name": "ipython",
    "version": 3
   },
   "file_extension": ".py",
   "mimetype": "text/x-python",
   "name": "python",
   "nbconvert_exporter": "python",
   "pygments_lexer": "ipython3",
   "version": "3.9.7"
  }
 },
 "nbformat": 4,
 "nbformat_minor": 5
}
