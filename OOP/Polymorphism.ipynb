{
 "cells": [
  {
   "cell_type": "code",
   "execution_count": 2,
   "id": "7160254e",
   "metadata": {},
   "outputs": [],
   "source": [
    "class Dog():\n",
    "    \n",
    "    def __init__(self,name):\n",
    "        self.name = name\n",
    "        \n",
    "    def speak(self):\n",
    "        return self.name + ' says woof!'\n",
    "    "
   ]
  },
  {
   "cell_type": "code",
   "execution_count": 4,
   "id": "76047188",
   "metadata": {},
   "outputs": [],
   "source": [
    "class Cat():\n",
    "    \n",
    "    def __init__(self,name):\n",
    "        self.name = name\n",
    "        \n",
    "    def speak(self):\n",
    "        return self.name + ' says meow!'\n",
    "    "
   ]
  },
  {
   "cell_type": "code",
   "execution_count": 5,
   "id": "8f647778",
   "metadata": {},
   "outputs": [],
   "source": [
    "link = Dog('Link')"
   ]
  },
  {
   "cell_type": "code",
   "execution_count": 6,
   "id": "09f324da",
   "metadata": {},
   "outputs": [],
   "source": [
    "suzi = Cat('Suzi')"
   ]
  },
  {
   "cell_type": "code",
   "execution_count": 7,
   "id": "0a0c0e56",
   "metadata": {},
   "outputs": [
    {
     "name": "stdout",
     "output_type": "stream",
     "text": [
      "Link says woof!\n"
     ]
    }
   ],
   "source": [
    "print(link.speak())"
   ]
  },
  {
   "cell_type": "code",
   "execution_count": 9,
   "id": "74aa4e14",
   "metadata": {},
   "outputs": [
    {
     "name": "stdout",
     "output_type": "stream",
     "text": [
      "<class '__main__.Dog'>\n",
      "Link says woof!\n",
      "<class '__main__.Cat'>\n",
      "Suzi says meow!\n"
     ]
    }
   ],
   "source": [
    "for pets in [link,suzi]:\n",
    "    print(type(pets))\n",
    "    print(pets.speak())"
   ]
  },
  {
   "cell_type": "code",
   "execution_count": 13,
   "id": "b5abe274",
   "metadata": {},
   "outputs": [],
   "source": [
    "class Animal():\n",
    "    \n",
    "    def __init__(self,name):\n",
    "        self.name = name\n",
    "    \n",
    "    def speak(self):\n",
    "        raise NotImplementedError('Subclass must implement this abstract method')\n",
    "        "
   ]
  },
  {
   "cell_type": "code",
   "execution_count": 11,
   "id": "d46c8f00",
   "metadata": {},
   "outputs": [],
   "source": [
    "my_animal = Animal('rex')"
   ]
  },
  {
   "cell_type": "code",
   "execution_count": 14,
   "id": "9d67e247",
   "metadata": {},
   "outputs": [],
   "source": [
    "class Dog(Animal):\n",
    "        \n",
    "    def speak(self):\n",
    "        return self.name + ' says woof!'"
   ]
  },
  {
   "cell_type": "code",
   "execution_count": 15,
   "id": "bdbae801",
   "metadata": {},
   "outputs": [],
   "source": [
    "class Cat(Animal):\n",
    "        \n",
    "    def speak(self):\n",
    "        return self.name + ' says meow!'"
   ]
  },
  {
   "cell_type": "code",
   "execution_count": 16,
   "id": "955d6714",
   "metadata": {},
   "outputs": [],
   "source": [
    "link = Dog('Link')"
   ]
  },
  {
   "cell_type": "code",
   "execution_count": 18,
   "id": "b5a240e9",
   "metadata": {},
   "outputs": [
    {
     "data": {
      "text/plain": [
       "'Link says woof!'"
      ]
     },
     "execution_count": 18,
     "metadata": {},
     "output_type": "execute_result"
    }
   ],
   "source": [
    "link.speak()"
   ]
  },
  {
   "cell_type": "code",
   "execution_count": null,
   "id": "d8f5f84a",
   "metadata": {},
   "outputs": [],
   "source": []
  }
 ],
 "metadata": {
  "kernelspec": {
   "display_name": "Python 3 (ipykernel)",
   "language": "python",
   "name": "python3"
  },
  "language_info": {
   "codemirror_mode": {
    "name": "ipython",
    "version": 3
   },
   "file_extension": ".py",
   "mimetype": "text/x-python",
   "name": "python",
   "nbconvert_exporter": "python",
   "pygments_lexer": "ipython3",
   "version": "3.9.7"
  }
 },
 "nbformat": 4,
 "nbformat_minor": 5
}
