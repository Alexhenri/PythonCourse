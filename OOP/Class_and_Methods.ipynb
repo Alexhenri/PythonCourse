{
 "cells": [
  {
   "cell_type": "code",
   "execution_count": 16,
   "id": "3c2fb96e",
   "metadata": {},
   "outputs": [],
   "source": [
    "class Cat():\n",
    "    # the self keyword is the istance of object itself\n",
    "    # can be any name, but by convention we use self, to others understand\n",
    "    \n",
    "    def __init__(self, color, breed, name): \n",
    "            self.color = color\n",
    "            self.breed = breed\n",
    "            self.name  = name"
   ]
  },
  {
   "cell_type": "code",
   "execution_count": 17,
   "id": "c7bd43c1",
   "metadata": {},
   "outputs": [],
   "source": [
    "my_cat = Cat(color='White', breed='Siames', name='Suzi')"
   ]
  },
  {
   "cell_type": "code",
   "execution_count": 12,
   "id": "d3778721",
   "metadata": {},
   "outputs": [
    {
     "data": {
      "text/plain": [
       "__main__.MinhaClasse"
      ]
     },
     "execution_count": 12,
     "metadata": {},
     "output_type": "execute_result"
    }
   ],
   "source": [
    "type(my_class)"
   ]
  },
  {
   "cell_type": "code",
   "execution_count": 13,
   "id": "a913436c",
   "metadata": {},
   "outputs": [
    {
     "data": {
      "text/plain": [
       "'Siames'"
      ]
     },
     "execution_count": 13,
     "metadata": {},
     "output_type": "execute_result"
    }
   ],
   "source": [
    "my_cat.breed"
   ]
  },
  {
   "cell_type": "code",
   "execution_count": 14,
   "id": "88480ab3",
   "metadata": {},
   "outputs": [
    {
     "data": {
      "text/plain": [
       "'White'"
      ]
     },
     "execution_count": 14,
     "metadata": {},
     "output_type": "execute_result"
    }
   ],
   "source": [
    "my_cat.color"
   ]
  },
  {
   "cell_type": "code",
   "execution_count": 18,
   "id": "533ec29b",
   "metadata": {},
   "outputs": [
    {
     "data": {
      "text/plain": [
       "'Suzi'"
      ]
     },
     "execution_count": 18,
     "metadata": {},
     "output_type": "execute_result"
    }
   ],
   "source": [
    "my_cat.name"
   ]
  },
  {
   "cell_type": "code",
   "execution_count": 80,
   "id": "212505b8",
   "metadata": {},
   "outputs": [],
   "source": [
    "class Cat():\n",
    "    \n",
    "    # CLASS OBJECT ATTRIBUTE\n",
    "    # SAME FOR ANY INSTANCE OF A CLASS\n",
    "    species = 'mammal'\n",
    "    sub_species = 'feline'\n",
    "    \n",
    "    # Init instance\n",
    "    def __init__(self, name, color='Sem Cor', breed='Viralata'): \n",
    "            # instance attributes\n",
    "            self.color = color\n",
    "            self.breed = breed\n",
    "            self.name  = name\n",
    "            \n",
    "    # Methods -> Functions of a class\n",
    "    # Can use self istance, class attribute and outside variables \n",
    "    def meow(self, number):\n",
    "        print('Meooooow name is {} and the number is {}'.format(self.name, number))\n",
    "        print('Meooooow species is {}'.format(self.species))\n",
    "        print('Meooooow species is {}'.format(Cat.species))\n"
   ]
  },
  {
   "cell_type": "code",
   "execution_count": 81,
   "id": "0eba39ef",
   "metadata": {},
   "outputs": [],
   "source": [
    "my_cat = Cat(color='White', breed='Siames', name='Suzi')"
   ]
  },
  {
   "cell_type": "code",
   "execution_count": 82,
   "id": "3a71d4fd",
   "metadata": {},
   "outputs": [
    {
     "name": "stdout",
     "output_type": "stream",
     "text": [
      "Meooooow name is Suzi and the number is 2\n",
      "Meooooow species is mammal\n",
      "Meooooow species is mammal\n"
     ]
    }
   ],
   "source": [
    "my_cat.meow(2)"
   ]
  },
  {
   "cell_type": "markdown",
   "id": "5029926e",
   "metadata": {},
   "source": [
    "\n"
   ]
  },
  {
   "cell_type": "code",
   "execution_count": 79,
   "id": "40fcf1d9",
   "metadata": {},
   "outputs": [
    {
     "data": {
      "text/plain": [
       "'Siames'"
      ]
     },
     "execution_count": 79,
     "metadata": {},
     "output_type": "execute_result"
    }
   ],
   "source": [
    "my_cat.breed"
   ]
  },
  {
   "cell_type": "code",
   "execution_count": 74,
   "id": "1ace37bb",
   "metadata": {},
   "outputs": [],
   "source": [
    "my_cat2 = Cat(name='Suzi')"
   ]
  },
  {
   "cell_type": "code",
   "execution_count": 75,
   "id": "3405bb29",
   "metadata": {},
   "outputs": [
    {
     "data": {
      "text/plain": [
       "'Viralata'"
      ]
     },
     "execution_count": 75,
     "metadata": {},
     "output_type": "execute_result"
    }
   ],
   "source": [
    "my_cat2.breed"
   ]
  },
  {
   "cell_type": "code",
   "execution_count": null,
   "id": "1a33f2a7",
   "metadata": {},
   "outputs": [],
   "source": []
  }
 ],
 "metadata": {
  "kernelspec": {
   "display_name": "Python 3 (ipykernel)",
   "language": "python",
   "name": "python3"
  },
  "language_info": {
   "codemirror_mode": {
    "name": "ipython",
    "version": 3
   },
   "file_extension": ".py",
   "mimetype": "text/x-python",
   "name": "python",
   "nbconvert_exporter": "python",
   "pygments_lexer": "ipython3",
   "version": "3.9.7"
  }
 },
 "nbformat": 4,
 "nbformat_minor": 5
}
